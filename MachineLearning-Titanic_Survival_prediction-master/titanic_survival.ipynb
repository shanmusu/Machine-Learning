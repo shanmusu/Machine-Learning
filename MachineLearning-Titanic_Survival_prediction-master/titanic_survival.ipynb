{
 "cells": [
  {
   "cell_type": "markdown",
   "metadata": {
    "_cell_guid": "618dad15-200c-4fa4-9c6f-5f3d86c7366d",
    "_uuid": "55d264a7cb04b76cc23ff7f61a013eb22c514eb9"
   },
   "source": [
    "# Task Description-\n",
    "The sinking of the RMS Titanic is one of the most infamous shipwrecks in history.  On April 15, 1912, during her maiden voyage, the Titanic sank after colliding with an iceberg, killing 1502 out of 2224 passengers and crew. This sensational tragedy shocked the international community and led to better safety regulations for ships.\n",
    "\n",
    "One of the reasons that the shipwreck led to such loss of life was that there were not enough lifeboats for the passengers and crew. Although there was some element of luck involved in surviving the sinking, some groups of people were more likely to survive than others, such as women, children, and the upper-class.\n",
    "\n",
    "In this challenge, we ask you to complete the analysis of what sorts of people were likely to survive. In particular, we ask you to apply the tools of machine learning to predict which passengers survived the tragedy"
   ]
  },
  {
   "cell_type": "markdown",
   "metadata": {
    "_cell_guid": "48d62427-47ac-400c-a6d4-4f8ebb3ffc97",
    "_uuid": "01309f97921e762544f36ec01a8d4d565bf57c06"
   },
   "source": [
    "# Solution Steps-\n",
    "\n",
    "1) A CLOSER LOOK AT DATA\n",
    "\n",
    "    1.1) Import libraries & Load training data into pandas dataframe<br>\n",
    "    1.2) Look at what features we have here<br>\n",
    "    1.3) Findings\n",
    "    \n",
    "2) FEATURE ENGINEERING\n",
    "\n",
    "    2.1) Validate Importance of each feature<br>\n",
    "    2.2) Imputing missing values<br>\n",
    "    2.3) Converting data into numerical format\n",
    "    \n",
    "3) Final Predictions\n",
    "    \n",
    "    3.1) Check for correlation\n",
    "    3.2) Build Model\n",
    "    3.3) Accuracy\n",
    " "
   ]
  },
  {
   "cell_type": "markdown",
   "metadata": {
    "_cell_guid": "3946f899-f9fc-4cb3-bb1d-160ed1b07f01",
    "_uuid": "71537d3b66670148473c20b8c65ab2f7342309b2"
   },
   "source": [
    "# 1) A CLOSER LOOK AT DATA\n",
    "    \n",
    "   # 1.1) Import libraries & Load training data into pandas dataframe"
   ]
  },
  {
   "cell_type": "code",
   "execution_count": 1,
   "metadata": {
    "_cell_guid": "b0323871-1189-4026-bd9e-40a1dc35260a",
    "_uuid": "e67bf961baf060f85af345edf3c630e2465ef33f",
    "collapsed": true
   },
   "outputs": [],
   "source": [
    "#importing libraries \n",
    "import pandas as pd\n",
    "import numpy as np\n",
    "import seaborn as sns\n",
    "import matplotlib.pyplot as plt\n",
    "%matplotlib inline\n"
   ]
  },
  {
   "cell_type": "code",
   "execution_count": 2,
   "metadata": {
    "_cell_guid": "892044b4-2a3a-414d-af64-c3b42c00b417",
    "_uuid": "69e4b1a08a7a3033203c0efca961f328148844df"
   },
   "outputs": [
    {
     "data": {
      "text/html": [
       "<div>\n",
       "<style>\n",
       "    .dataframe thead tr:only-child th {\n",
       "        text-align: right;\n",
       "    }\n",
       "\n",
       "    .dataframe thead th {\n",
       "        text-align: left;\n",
       "    }\n",
       "\n",
       "    .dataframe tbody tr th {\n",
       "        vertical-align: top;\n",
       "    }\n",
       "</style>\n",
       "<table border=\"1\" class=\"dataframe\">\n",
       "  <thead>\n",
       "    <tr style=\"text-align: right;\">\n",
       "      <th></th>\n",
       "      <th>PassengerId</th>\n",
       "      <th>Survived</th>\n",
       "      <th>Pclass</th>\n",
       "      <th>Name</th>\n",
       "      <th>Sex</th>\n",
       "      <th>Age</th>\n",
       "      <th>SibSp</th>\n",
       "      <th>Parch</th>\n",
       "      <th>Ticket</th>\n",
       "      <th>Fare</th>\n",
       "      <th>Cabin</th>\n",
       "      <th>Embarked</th>\n",
       "    </tr>\n",
       "  </thead>\n",
       "  <tbody>\n",
       "    <tr>\n",
       "      <th>0</th>\n",
       "      <td>1</td>\n",
       "      <td>0</td>\n",
       "      <td>3</td>\n",
       "      <td>Braund, Mr. Owen Harris</td>\n",
       "      <td>male</td>\n",
       "      <td>22.0</td>\n",
       "      <td>1</td>\n",
       "      <td>0</td>\n",
       "      <td>A/5 21171</td>\n",
       "      <td>7.2500</td>\n",
       "      <td>NaN</td>\n",
       "      <td>S</td>\n",
       "    </tr>\n",
       "    <tr>\n",
       "      <th>1</th>\n",
       "      <td>2</td>\n",
       "      <td>1</td>\n",
       "      <td>1</td>\n",
       "      <td>Cumings, Mrs. John Bradley (Florence Briggs Th...</td>\n",
       "      <td>female</td>\n",
       "      <td>38.0</td>\n",
       "      <td>1</td>\n",
       "      <td>0</td>\n",
       "      <td>PC 17599</td>\n",
       "      <td>71.2833</td>\n",
       "      <td>C85</td>\n",
       "      <td>C</td>\n",
       "    </tr>\n",
       "    <tr>\n",
       "      <th>2</th>\n",
       "      <td>3</td>\n",
       "      <td>1</td>\n",
       "      <td>3</td>\n",
       "      <td>Heikkinen, Miss. Laina</td>\n",
       "      <td>female</td>\n",
       "      <td>26.0</td>\n",
       "      <td>0</td>\n",
       "      <td>0</td>\n",
       "      <td>STON/O2. 3101282</td>\n",
       "      <td>7.9250</td>\n",
       "      <td>NaN</td>\n",
       "      <td>S</td>\n",
       "    </tr>\n",
       "    <tr>\n",
       "      <th>3</th>\n",
       "      <td>4</td>\n",
       "      <td>1</td>\n",
       "      <td>1</td>\n",
       "      <td>Futrelle, Mrs. Jacques Heath (Lily May Peel)</td>\n",
       "      <td>female</td>\n",
       "      <td>35.0</td>\n",
       "      <td>1</td>\n",
       "      <td>0</td>\n",
       "      <td>113803</td>\n",
       "      <td>53.1000</td>\n",
       "      <td>C123</td>\n",
       "      <td>S</td>\n",
       "    </tr>\n",
       "    <tr>\n",
       "      <th>4</th>\n",
       "      <td>5</td>\n",
       "      <td>0</td>\n",
       "      <td>3</td>\n",
       "      <td>Allen, Mr. William Henry</td>\n",
       "      <td>male</td>\n",
       "      <td>35.0</td>\n",
       "      <td>0</td>\n",
       "      <td>0</td>\n",
       "      <td>373450</td>\n",
       "      <td>8.0500</td>\n",
       "      <td>NaN</td>\n",
       "      <td>S</td>\n",
       "    </tr>\n",
       "    <tr>\n",
       "      <th>5</th>\n",
       "      <td>6</td>\n",
       "      <td>0</td>\n",
       "      <td>3</td>\n",
       "      <td>Moran, Mr. James</td>\n",
       "      <td>male</td>\n",
       "      <td>NaN</td>\n",
       "      <td>0</td>\n",
       "      <td>0</td>\n",
       "      <td>330877</td>\n",
       "      <td>8.4583</td>\n",
       "      <td>NaN</td>\n",
       "      <td>Q</td>\n",
       "    </tr>\n",
       "  </tbody>\n",
       "</table>\n",
       "</div>"
      ],
      "text/plain": [
       "   PassengerId  Survived  Pclass  \\\n",
       "0            1         0       3   \n",
       "1            2         1       1   \n",
       "2            3         1       3   \n",
       "3            4         1       1   \n",
       "4            5         0       3   \n",
       "5            6         0       3   \n",
       "\n",
       "                                                Name     Sex   Age  SibSp  \\\n",
       "0                            Braund, Mr. Owen Harris    male  22.0      1   \n",
       "1  Cumings, Mrs. John Bradley (Florence Briggs Th...  female  38.0      1   \n",
       "2                             Heikkinen, Miss. Laina  female  26.0      0   \n",
       "3       Futrelle, Mrs. Jacques Heath (Lily May Peel)  female  35.0      1   \n",
       "4                           Allen, Mr. William Henry    male  35.0      0   \n",
       "5                                   Moran, Mr. James    male   NaN      0   \n",
       "\n",
       "   Parch            Ticket     Fare Cabin Embarked  \n",
       "0      0         A/5 21171   7.2500   NaN        S  \n",
       "1      0          PC 17599  71.2833   C85        C  \n",
       "2      0  STON/O2. 3101282   7.9250   NaN        S  \n",
       "3      0            113803  53.1000  C123        S  \n",
       "4      0            373450   8.0500   NaN        S  \n",
       "5      0            330877   8.4583   NaN        Q  "
      ]
     },
     "execution_count": 2,
     "metadata": {},
     "output_type": "execute_result"
    }
   ],
   "source": [
    "#load the training data\n",
    "train_data = pd.read_csv(\"train.csv\")\n",
    "#lets see few rows of our data\n",
    "train_data.head(6)\n"
   ]
  },
  {
   "cell_type": "markdown",
   "metadata": {
    "_cell_guid": "732c10ae-bc07-48c9-9f6a-4c801de6e5ac",
    "_uuid": "1e89583270129c8e4ce209eda462c1529cc79eac"
   },
   "source": [
    "# 1.2) Look at what features we have here"
   ]
  },
  {
   "cell_type": "code",
   "execution_count": 3,
   "metadata": {
    "_cell_guid": "88852df1-01f0-44ea-a28d-3596be5b3754",
    "_uuid": "75b69f6f671271b1fee984868d783f08c718468f"
   },
   "outputs": [
    {
     "name": "stdout",
     "output_type": "stream",
     "text": [
      "<class 'pandas.core.frame.DataFrame'>\n",
      "RangeIndex: 891 entries, 0 to 890\n",
      "Data columns (total 12 columns):\n",
      "PassengerId    891 non-null int64\n",
      "Survived       891 non-null int64\n",
      "Pclass         891 non-null int64\n",
      "Name           891 non-null object\n",
      "Sex            891 non-null object\n",
      "Age            714 non-null float64\n",
      "SibSp          891 non-null int64\n",
      "Parch          891 non-null int64\n",
      "Ticket         891 non-null object\n",
      "Fare           891 non-null float64\n",
      "Cabin          204 non-null object\n",
      "Embarked       889 non-null object\n",
      "dtypes: float64(2), int64(5), object(5)\n",
      "memory usage: 83.6+ KB\n"
     ]
    }
   ],
   "source": [
    "#lets what features we have\n",
    "train_data.info()"
   ]
  },
  {
   "cell_type": "markdown",
   "metadata": {
    "_cell_guid": "778007d0-84a5-40da-ba67-296e54edd4e1",
    "_uuid": "bb082abdc80acd82361151483029178de04c4e66"
   },
   "source": [
    "# 1.3) Findings\n",
    "\n",
    "We have total 11 features, 1 independent variable  & 891 rows of data.\n",
    "\n",
    "PassengerId- Its the the id of passenger travelling<br>\n",
    "Survived- Passenger Died or Survived(This is independent variable for whcih we have to train our algorithm)<br>\n",
    "Pclass- In which class passenger travelled<br>\n",
    "Name- Name of passenger<br>\n",
    "Sex- Male or Female<br>\n",
    "Age- Age of passenger<br>\n",
    "Sibsp- Number of siblings or spouses<br>\n",
    "Parch- Number of parents/children<br>\n",
    "Ticket- Ticket Number<br>\n",
    "Fare- Fare</br> \n",
    "Cabin- Cabin of passenger</br>\n",
    "Embarked- Port of embark\n",
    "\n",
    "-----------------------------------\n",
    "Missing Values-\n",
    "\n",
    "Age- 891-714 = 177 values missing from age feature<br>\n",
    "Cabin- 891-204 = 687 WOW!!! 687 values missing from cabin feature<br>\n",
    "Embarked- 891-889 = 2 only two values missing from feature embarcation"
   ]
  },
  {
   "cell_type": "markdown",
   "metadata": {
    "_cell_guid": "3e837f82-4ea6-4bc8-9a10-224e42bc01df",
    "_uuid": "6ba583b9dc5ccb4d0961382f8dec9baece003225"
   },
   "source": [
    "# 2) Feature Engineering\n",
    "# 2.1) Validate Importance of each feature with respect to 'Survived'"
   ]
  },
  {
   "cell_type": "markdown",
   "metadata": {
    "_cell_guid": "95560b19-74b1-42a2-9746-823246de5a84",
    "_uuid": "3923d99e9570b878c6e69b06d4d6657f390888db"
   },
   "source": [
    "# PassengerID"
   ]
  },
  {
   "cell_type": "code",
   "execution_count": 4,
   "metadata": {
    "_cell_guid": "716d9aae-de6e-48bc-8e29-2b12c12d36e8",
    "_uuid": "f5fa289011e436072ddb1fdd071dfd95f2410c73"
   },
   "outputs": [],
   "source": [
    "# PassengerID is just a sequence number so we can delete it which do not have any impact on Survival\n",
    "# Lets delete passengerid\n",
    "del train_data[\"PassengerId\"]"
   ]
  },
  {
   "cell_type": "markdown",
   "metadata": {
    "_cell_guid": "e61f0c5f-21e4-49f9-b346-a45b75284704",
    "_uuid": "78a9931a564262be696ca6f15642057a39f54acf"
   },
   "source": [
    "# Pclass"
   ]
  },
  {
   "cell_type": "code",
   "execution_count": 5,
   "metadata": {
    "_cell_guid": "5e03e596-b1b2-44ac-b525-181a959c4bf7",
    "_uuid": "2850c2895dda9d84efe5ee66e1ffdefcecfaccd3"
   },
   "outputs": [
    {
     "data": {
      "text/plain": [
       "<seaborn.axisgrid.FacetGrid at 0x117dfae10>"
      ]
     },
     "execution_count": 5,
     "metadata": {},
     "output_type": "execute_result"
    },
    {
     "data": {
      "image/png": "[encoded data removed]",
      "text/plain": [
       "<matplotlib.figure.Figure at 0x10ceb0400>"
      ]
     },
     "metadata": {},
     "output_type": "display_data"
    }
   ],
   "source": [
    "# Pclass - Its is a numerical catorgircal feature with order, lets plot graph & see its relevance \n",
    "sns.factorplot(x=\"Pclass\",y='Survived',data=train_data)"
   ]
  },
  {
   "cell_type": "markdown",
   "metadata": {
    "_cell_guid": "35c0404b-ad08-441b-9a0c-0ecddada97bf",
    "_uuid": "21f92440efda3c9b7f08576cafc4b8dd2bec0bca"
   },
   "source": [
    "# Survial chances if passenger is sitting in Class1>>Class2>Class3"
   ]
  },
  {
   "cell_type": "markdown",
   "metadata": {
    "_cell_guid": "debddfb3-9456-40be-a623-8f32932f360c",
    "_uuid": "56173c6e4eecad4c688bb147988656e6a44d478e"
   },
   "source": [
    "# Name"
   ]
  },
  {
   "cell_type": "code",
   "execution_count": 6,
   "metadata": {
    "_cell_guid": "c9fd8518-b6f5-47d4-ad22-c24025590f50",
    "_uuid": "21595a7070e2c13ad40648316f734bef36879fdb",
    "collapsed": true
   },
   "outputs": [],
   "source": [
    "# Name - well name shouldn't affect the survival of the passenger but it can be an important feature \n",
    "# what extra information i can get from passenger's name ???\n",
    "train_data['Name'].head()\n",
    "#hmm!! we can see below that we can fetch the family Names of passengers it could be a usefull feature to answer other\n",
    "# questions like \"Ethnicity\" of the passengers survived. since it is not usufull in our main prediction task \n",
    "# i am leaving it for now . \n",
    "del train_data['Name']"
   ]
  },
  {
   "cell_type": "markdown",
   "metadata": {
    "_cell_guid": "3ccbdbf6-7b3a-4fc1-b89e-a747f150370a",
    "_uuid": "772dae5748d6c22442bcbfe2d3e392c55e60e67c"
   },
   "source": [
    "# Sex"
   ]
  },
  {
   "cell_type": "code",
   "execution_count": 7,
   "metadata": {
    "_cell_guid": "550e318d-6f11-496c-895d-25660288c978",
    "_uuid": "bf81ba95bea2fc163c143d0a34e0ae03ff01bd56"
   },
   "outputs": [
    {
     "data": {
      "text/plain": [
       "<matplotlib.axes._subplots.AxesSubplot at 0x117d594a8>"
      ]
     },
     "execution_count": 7,
     "metadata": {},
     "output_type": "execute_result"
    },
    {
     "data": {
      "image/png": "[encoded data removed]",
      "text/plain": [
       "<matplotlib.figure.Figure at 0x117d4c978>"
      ]
     },
     "metadata": {},
     "output_type": "display_data"
    }
   ],
   "source": [
    "# Sex- it would be interseting to see this feature's relation with 'Survived' feature\n",
    "fig, (ax1,ax2) = plt.subplots(1,2,figsize=(12,5))\n",
    "sns.barplot(x='Sex',y='Survived',data=train_data,ax=ax2)\n",
    "sns.countplot(train_data[\"Sex\"],ax=ax1)"
   ]
  },
  {
   "cell_type": "markdown",
   "metadata": {
    "_cell_guid": "1be2cc59-22b6-4e9b-a91e-3f06781111b0",
    "_uuid": "59a940608e0aaaac505f920925b036b314bfe976"
   },
   "source": [
    "# As we can see that 'gender affects survival chances' so this feature will be important"
   ]
  },
  {
   "cell_type": "markdown",
   "metadata": {
    "_cell_guid": "25ac1544-ae2c-45e3-9093-aae7b6657872",
    "_uuid": "694770363d5b1ac96978b9b220a641b2d70ddd57"
   },
   "source": [
    "# Age"
   ]
  },
  {
   "cell_type": "code",
   "execution_count": 8,
   "metadata": {
    "_cell_guid": "cf05d11a-e619-44d4-88f2-5080f148a65c",
    "_uuid": "8f08fdef87f79cf713b8167b8b63a2d31a1a222e"
   },
   "outputs": [
    {
     "data": {
      "image/png": "[encoded data removed]",
      "text/plain": [
       "<matplotlib.figure.Figure at 0x117f7c0f0>"
      ]
     },
     "metadata": {},
     "output_type": "display_data"
    }
   ],
   "source": [
    "# age- Lets what how age impacts the chances of survival\n",
    "fig, (ax1,ax2,ax3) = plt.subplots(1,3,figsize=(12,5))\n",
    "sns.factorplot(x=\"Survived\",y=\"Age\",data=train_data,ax=ax1)\n",
    "sns.boxplot(x=\"Survived\",y=\"Age\",data=train_data,ax=ax2)\n",
    "sns.regplot(x='Age',y='Survived',data=train_data,ax=ax3)\n",
    "plt.close(2)"
   ]
  },
  {
   "cell_type": "markdown",
   "metadata": {
    "_cell_guid": "58e594a0-10de-4443-b255-3e71adda5ee9",
    "_uuid": "175e348d84fde83fc6d444594eee663f1ea94ae3"
   },
   "source": [
    "# As we can see from above graphs feature 'Age' is in realtion with 'Survived' so it would be usuful while trianing our algorithm"
   ]
  },
  {
   "cell_type": "markdown",
   "metadata": {
    "_cell_guid": "f6e92b45-ee1f-4b46-82ef-b5763eb0db59",
    "_uuid": "1104ba9914ab3859bf05b8467a9e1b656e5e075a"
   },
   "source": [
    "# Sibsp(siblings/spouse) & Parch(parents/children) abord"
   ]
  },
  {
   "cell_type": "code",
   "execution_count": 9,
   "metadata": {
    "_cell_guid": "e9884c27-54ae-4b28-8552-6b8f6af09c75",
    "_uuid": "4524c9e9313ae05e77774f5f834cb0ce5bddd31a"
   },
   "outputs": [
    {
     "data": {
      "image/png": "[encoded data removed]",
      "text/plain": [
       "<matplotlib.figure.Figure at 0x117e16550>"
      ]
     },
     "metadata": {},
     "output_type": "display_data"
    },
    {
     "data": {
      "image/png": "[encoded data removed]",
      "text/plain": [
       "<matplotlib.figure.Figure at 0x118320710>"
      ]
     },
     "metadata": {},
     "output_type": "display_data"
    }
   ],
   "source": [
    "# we can add these features to create new feature called \"Fam_Size\"\n",
    "train_data['Fam_Size']= train_data['SibSp'] + train_data['Parch']\n",
    "fig, (ax1,ax2,ax3) = plt.subplots(3,1,figsize=(12,8))\n",
    "sns.factorplot(x=\"SibSp\",y=\"Survived\",data=train_data,ax=ax1)\n",
    "sns.factorplot(x=\"Parch\",y=\"Survived\",data=train_data,ax=ax2)\n",
    "sns.factorplot(x=\"Fam_Size\",y=\"Survived\",data=train_data,ax=ax3)\n",
    "\n",
    "plt.close(2)\n",
    "plt.close(3)\n",
    " "
   ]
  },
  {
   "cell_type": "markdown",
   "metadata": {
    "_cell_guid": "c2c8cb34-550b-41b3-9027-7c30fbcfc8a5",
    "_uuid": "8abbdbf82062c41bbc468a843a238cd362bbe3b6"
   },
   "source": [
    "# As we can see from above graphs that passengers with family size of (1,2,3) have higher chances of survival so this feature also be useful"
   ]
  },
  {
   "cell_type": "code",
   "execution_count": 10,
   "metadata": {
    "_cell_guid": "55842907-0b53-4725-937d-f3ffe09910dc",
    "_uuid": "4a3ce0067ac0d7863570a401a4fe5cd85ca64146",
    "collapsed": true
   },
   "outputs": [],
   "source": [
    "# since we are goint to work with Fam_Size lets delete Sibsp & Parch\n",
    "del train_data[\"SibSp\"]\n",
    "del train_data['Parch']"
   ]
  },
  {
   "cell_type": "markdown",
   "metadata": {
    "_cell_guid": "415eef61-1f63-4444-a635-4fd05322acb9",
    "_uuid": "f7e76e3f349ff8629464130726e19533674f7844"
   },
   "source": [
    "# Ticket"
   ]
  },
  {
   "cell_type": "code",
   "execution_count": 11,
   "metadata": {
    "_cell_guid": "8c225b72-a565-4fcd-81cf-306b48dc5962",
    "_uuid": "d851b012516a353ea493401a56a1ad03233b52aa"
   },
   "outputs": [
    {
     "data": {
      "text/plain": [
       "0           A/5 21171\n",
       "1            PC 17599\n",
       "2    STON/O2. 3101282\n",
       "3              113803\n",
       "4              373450\n",
       "5              330877\n",
       "6               17463\n",
       "7              349909\n",
       "8              347742\n",
       "9              237736\n",
       "Name: Ticket, dtype: object"
      ]
     },
     "execution_count": 11,
     "metadata": {},
     "output_type": "execute_result"
    }
   ],
   "source": [
    "train_data[\"Ticket\"].head(10)"
   ]
  },
  {
   "cell_type": "markdown",
   "metadata": {
    "_cell_guid": "f0a9be5e-3e1b-4dce-9de5-37ed8b9088df",
    "_uuid": "ffcc2df3d23c4d84565ad5745edeca5c9ab0ed7a"
   },
   "source": [
    "# This feature(ticket number) is alpha numbric & random, we could have analye it's pattern find cabin assignment but we already have cabin details so lets skip this feature"
   ]
  },
  {
   "cell_type": "code",
   "execution_count": 12,
   "metadata": {
    "_cell_guid": "e74e64c1-e581-466c-a581-20bfe036322d",
    "_uuid": "cb313880edd36edd902bf8daf16a495dc433f535",
    "collapsed": true
   },
   "outputs": [],
   "source": [
    "del train_data[\"Ticket\"]"
   ]
  },
  {
   "cell_type": "markdown",
   "metadata": {
    "_cell_guid": "8de45ed4-2c80-4cf4-8c4b-358a9ff1c660",
    "_uuid": "5a9cfeb08172afc4b220ce25ed4b0b5dd978ccd5"
   },
   "source": [
    "# Fare"
   ]
  },
  {
   "cell_type": "code",
   "execution_count": 13,
   "metadata": {
    "_cell_guid": "46e7e0d3-fa50-434b-868a-a2e6e1433302",
    "_uuid": "0dcf02471e3cecd71d65f7577699df00e6586afb"
   },
   "outputs": [
    {
     "data": {
      "image/png": "[encoded data removed]",
      "text/plain": [
       "<matplotlib.figure.Figure at 0x11819a898>"
      ]
     },
     "metadata": {},
     "output_type": "display_data"
    }
   ],
   "source": [
    "# IT would be interesting to see Fare & Survival realtion-ship\n",
    "fig, (ax1,ax2,ax3) = plt.subplots(1,3,figsize=(12,5))\n",
    "sns.boxplot(x='Survived',y='Fare',data=train_data,ax=ax1)\n",
    "sns.factorplot(x='Survived',y='Fare',data=train_data,ax=ax2)\n",
    "sns.regplot(x='Fare',y='Survived',data=train_data,ax=ax3)\n",
    "plt.close(2)\n"
   ]
  },
  {
   "cell_type": "markdown",
   "metadata": {
    "_cell_guid": "2f2e3bfa-3696-4179-a70a-63c328aeeb86",
    "_uuid": "4c9c9d5d506dd4fd33d9654c9afffd3d7f4dba1a"
   },
   "source": [
    "# Higher the fare & Better chances of survival\n",
    "---\n",
    "# Note- Features 'Pclass','Fare','Cabin' might be highly correalted so we will checking for Pearson's coefficient to validate the independance of features\n",
    "---\n"
   ]
  },
  {
   "cell_type": "markdown",
   "metadata": {
    "_cell_guid": "bcf4177d-12fd-4b24-809b-8a11fffa2dc0",
    "_uuid": "a3d754c6ad8b25146a5f022b109d7362bdd52534"
   },
   "source": [
    "# Cabin\n",
    "# This feature has 687 missing values & it is alpha-numeric so we will be handling this feature in Missing Values section of notebook"
   ]
  },
  {
   "cell_type": "markdown",
   "metadata": {
    "_cell_guid": "e125cb0b-28b7-4019-b200-1751a6724d60",
    "_uuid": "fd8ef52ac05fd2bcfc7009f2f05ab822888d55bb"
   },
   "source": [
    "---"
   ]
  },
  {
   "cell_type": "markdown",
   "metadata": {
    "_cell_guid": "41d40c82-e795-494a-8f2d-40c44554c8fa",
    "_uuid": "bdd5db53735d1a307958c4d710478713c0ffe34d"
   },
   "source": [
    "# Embarked"
   ]
  },
  {
   "cell_type": "code",
   "execution_count": 14,
   "metadata": {
    "_cell_guid": "79c6261f-a01b-4abd-8f66-3df32691660c",
    "_uuid": "d03c82e0b47fd9f5b2388b63fd4a1d8456ae8ca0"
   },
   "outputs": [
    {
     "data": {
      "text/plain": [
       "<seaborn.axisgrid.FacetGrid at 0x117e168d0>"
      ]
     },
     "execution_count": 14,
     "metadata": {},
     "output_type": "execute_result"
    },
    {
     "data": {
      "image/png": "[encoded data removed]",
      "text/plain": [
       "<matplotlib.figure.Figure at 0x117e166a0>"
      ]
     },
     "metadata": {},
     "output_type": "display_data"
    }
   ],
   "source": [
    "# This feature has very few (only 2) missing values lets have a visualize this feature\n",
    "#sns.countplot(train_data['Embarked'])\n",
    "sns.factorplot(x='Embarked',y='Survived',data=train_data)"
   ]
  },
  {
   "cell_type": "markdown",
   "metadata": {
    "_cell_guid": "912cddd5-e2bc-4409-876e-92b8da7cfcb1",
    "_uuid": "a8ca10fa2a31254ad1249d9597c353a60af8fb62"
   },
   "source": [
    "# Survival rate is higher at 'C' we can use this info to find missing values in next section"
   ]
  },
  {
   "cell_type": "code",
   "execution_count": 15,
   "metadata": {
    "_cell_guid": "c38b2a2e-c443-498a-97c8-fbec2fcd556f",
    "_uuid": "c2c29e746125fc8308c3cbf23605eb226970593a"
   },
   "outputs": [
    {
     "data": {
      "text/html": [
       "<div>\n",
       "<style>\n",
       "    .dataframe thead tr:only-child th {\n",
       "        text-align: right;\n",
       "    }\n",
       "\n",
       "    .dataframe thead th {\n",
       "        text-align: left;\n",
       "    }\n",
       "\n",
       "    .dataframe tbody tr th {\n",
       "        vertical-align: top;\n",
       "    }\n",
       "</style>\n",
       "<table border=\"1\" class=\"dataframe\">\n",
       "  <thead>\n",
       "    <tr style=\"text-align: right;\">\n",
       "      <th></th>\n",
       "      <th>Survived</th>\n",
       "      <th>Pclass</th>\n",
       "      <th>Sex</th>\n",
       "      <th>Age</th>\n",
       "      <th>Fare</th>\n",
       "      <th>Cabin</th>\n",
       "      <th>Embarked</th>\n",
       "      <th>Fam_Size</th>\n",
       "    </tr>\n",
       "  </thead>\n",
       "  <tbody>\n",
       "    <tr>\n",
       "      <th>0</th>\n",
       "      <td>0</td>\n",
       "      <td>3</td>\n",
       "      <td>male</td>\n",
       "      <td>22.0</td>\n",
       "      <td>7.2500</td>\n",
       "      <td>NaN</td>\n",
       "      <td>S</td>\n",
       "      <td>1</td>\n",
       "    </tr>\n",
       "    <tr>\n",
       "      <th>1</th>\n",
       "      <td>1</td>\n",
       "      <td>1</td>\n",
       "      <td>female</td>\n",
       "      <td>38.0</td>\n",
       "      <td>71.2833</td>\n",
       "      <td>C85</td>\n",
       "      <td>C</td>\n",
       "      <td>1</td>\n",
       "    </tr>\n",
       "    <tr>\n",
       "      <th>2</th>\n",
       "      <td>1</td>\n",
       "      <td>3</td>\n",
       "      <td>female</td>\n",
       "      <td>26.0</td>\n",
       "      <td>7.9250</td>\n",
       "      <td>NaN</td>\n",
       "      <td>S</td>\n",
       "      <td>0</td>\n",
       "    </tr>\n",
       "    <tr>\n",
       "      <th>3</th>\n",
       "      <td>1</td>\n",
       "      <td>1</td>\n",
       "      <td>female</td>\n",
       "      <td>35.0</td>\n",
       "      <td>53.1000</td>\n",
       "      <td>C123</td>\n",
       "      <td>S</td>\n",
       "      <td>1</td>\n",
       "    </tr>\n",
       "    <tr>\n",
       "      <th>4</th>\n",
       "      <td>0</td>\n",
       "      <td>3</td>\n",
       "      <td>male</td>\n",
       "      <td>35.0</td>\n",
       "      <td>8.0500</td>\n",
       "      <td>NaN</td>\n",
       "      <td>S</td>\n",
       "      <td>0</td>\n",
       "    </tr>\n",
       "  </tbody>\n",
       "</table>\n",
       "</div>"
      ],
      "text/plain": [
       "   Survived  Pclass     Sex   Age     Fare Cabin Embarked  Fam_Size\n",
       "0         0       3    male  22.0   7.2500   NaN        S         1\n",
       "1         1       1  female  38.0  71.2833   C85        C         1\n",
       "2         1       3  female  26.0   7.9250   NaN        S         0\n",
       "3         1       1  female  35.0  53.1000  C123        S         1\n",
       "4         0       3    male  35.0   8.0500   NaN        S         0"
      ]
     },
     "execution_count": 15,
     "metadata": {},
     "output_type": "execute_result"
    }
   ],
   "source": [
    "# Lets look at our dataframe now\n",
    "train_data.head()"
   ]
  },
  {
   "cell_type": "markdown",
   "metadata": {
    "_cell_guid": "5d3fc155-6c2f-4072-a004-178f5a2895ec",
    "_uuid": "c7b233a30716b5dffb8a8e8119176a4663f0dd82"
   },
   "source": [
    "# 2.2) Impute Missing Values"
   ]
  },
  {
   "cell_type": "markdown",
   "metadata": {
    "_cell_guid": "812bb91e-d253-4a9e-aa35-c814c1e0237a",
    "_uuid": "1d8b0d06056fa7727cd7e8ffcaf2d5019a047659"
   },
   "source": [
    "# Embarked"
   ]
  },
  {
   "cell_type": "code",
   "execution_count": 16,
   "metadata": {
    "_cell_guid": "88de48a5-67c1-4f9d-9fa5-8b426a66c270",
    "_uuid": "7c0816d6f56bfec6479daa3b457f5dd916d93fca"
   },
   "outputs": [
    {
     "data": {
      "text/html": [
       "<div>\n",
       "<style>\n",
       "    .dataframe thead tr:only-child th {\n",
       "        text-align: right;\n",
       "    }\n",
       "\n",
       "    .dataframe thead th {\n",
       "        text-align: left;\n",
       "    }\n",
       "\n",
       "    .dataframe tbody tr th {\n",
       "        vertical-align: top;\n",
       "    }\n",
       "</style>\n",
       "<table border=\"1\" class=\"dataframe\">\n",
       "  <thead>\n",
       "    <tr style=\"text-align: right;\">\n",
       "      <th></th>\n",
       "      <th>Survived</th>\n",
       "      <th>Pclass</th>\n",
       "      <th>Sex</th>\n",
       "      <th>Age</th>\n",
       "      <th>Fare</th>\n",
       "      <th>Cabin</th>\n",
       "      <th>Embarked</th>\n",
       "      <th>Fam_Size</th>\n",
       "    </tr>\n",
       "  </thead>\n",
       "  <tbody>\n",
       "    <tr>\n",
       "      <th>61</th>\n",
       "      <td>1</td>\n",
       "      <td>1</td>\n",
       "      <td>female</td>\n",
       "      <td>38.0</td>\n",
       "      <td>80.0</td>\n",
       "      <td>B28</td>\n",
       "      <td>NaN</td>\n",
       "      <td>0</td>\n",
       "    </tr>\n",
       "    <tr>\n",
       "      <th>829</th>\n",
       "      <td>1</td>\n",
       "      <td>1</td>\n",
       "      <td>female</td>\n",
       "      <td>62.0</td>\n",
       "      <td>80.0</td>\n",
       "      <td>B28</td>\n",
       "      <td>NaN</td>\n",
       "      <td>0</td>\n",
       "    </tr>\n",
       "  </tbody>\n",
       "</table>\n",
       "</div>"
      ],
      "text/plain": [
       "     Survived  Pclass     Sex   Age  Fare Cabin Embarked  Fam_Size\n",
       "61          1       1  female  38.0  80.0   B28      NaN         0\n",
       "829         1       1  female  62.0  80.0   B28      NaN         0"
      ]
     },
     "execution_count": 16,
     "metadata": {},
     "output_type": "execute_result"
    }
   ],
   "source": [
    "#only 2 missing values lets print rows with missing values\n",
    "train_data[train_data[\"Embarked\"].isnull()]"
   ]
  },
  {
   "cell_type": "code",
   "execution_count": 17,
   "metadata": {
    "_cell_guid": "dbc66cad-5a7c-46c9-8677-10f92339cb66",
    "_uuid": "43def1ee142d63abc451f4cb4a9f2d7f1bfbc49c"
   },
   "outputs": [
    {
     "data": {
      "image/png": "[encoded data removed]",
      "text/plain": [
       "<matplotlib.figure.Figure at 0x117e16ba8>"
      ]
     },
     "metadata": {},
     "output_type": "display_data"
    }
   ],
   "source": [
    "fig, (ax1,ax2) = plt.subplots(1,2,figsize=(12,5))\n",
    "sns.factorplot(x='Embarked',y='Survived',data=train_data,ax=ax1)\n",
    "sns.boxplot(x='Embarked',y='Fare',data=train_data,ax=ax2)\n",
    "plt.close(2)"
   ]
  },
  {
   "cell_type": "markdown",
   "metadata": {
    "_cell_guid": "64ad77ea-f17d-43e3-a3a6-269a019062e2",
    "_uuid": "93a83530b8810b85ad002f92545fe636ab11b789"
   },
   "source": [
    "# As we can see that passengers with higher fare & high mean survival embarked from 'C' so lets fill our missing values with 'C' because our missing embarked rows have survived-1 & fare- 80"
   ]
  },
  {
   "cell_type": "code",
   "execution_count": 18,
   "metadata": {
    "_cell_guid": "33086088-7ebe-4093-80f1-d4ed6c4d59f2",
    "_uuid": "e7fb64fa0be7b7690f7453346ddacb29528875a7",
    "collapsed": true
   },
   "outputs": [],
   "source": [
    "train_data['Embarked']=train_data['Embarked'].fillna('C')"
   ]
  },
  {
   "cell_type": "markdown",
   "metadata": {
    "_cell_guid": "3a83afc4-47c5-4740-97d3-77e973c340c8",
    "_uuid": "82c13f50e224e3d61c366eab10637f5b384f3f66"
   },
   "source": [
    "# Cabin"
   ]
  },
  {
   "cell_type": "code",
   "execution_count": 19,
   "metadata": {
    "_cell_guid": "310b87a4-e300-4929-84d4-52731d5b5b97",
    "_uuid": "03b7a2219f97a0dbec6d84b75b38312e2844e847"
   },
   "outputs": [
    {
     "data": {
      "text/plain": [
       "0     NaN\n",
       "1     C85\n",
       "2     NaN\n",
       "3    C123\n",
       "4     NaN\n",
       "Name: Cabin, dtype: object"
      ]
     },
     "execution_count": 19,
     "metadata": {},
     "output_type": "execute_result"
    }
   ],
   "source": [
    "#687 missing values , lets fill them with the help of other features\n",
    "train_data['Cabin'].head(5)"
   ]
  },
  {
   "cell_type": "code",
   "execution_count": 20,
   "metadata": {
    "_cell_guid": "aa9d64bc-3504-416e-b95d-c20870e2dbec",
    "_uuid": "2e665c7c22dfacf8438f199c90b626b1a9cb70b1"
   },
   "outputs": [
    {
     "data": {
      "text/html": [
       "<div>\n",
       "<style>\n",
       "    .dataframe thead tr:only-child th {\n",
       "        text-align: right;\n",
       "    }\n",
       "\n",
       "    .dataframe thead th {\n",
       "        text-align: left;\n",
       "    }\n",
       "\n",
       "    .dataframe tbody tr th {\n",
       "        vertical-align: top;\n",
       "    }\n",
       "</style>\n",
       "<table border=\"1\" class=\"dataframe\">\n",
       "  <thead>\n",
       "    <tr style=\"text-align: right;\">\n",
       "      <th></th>\n",
       "      <th>Survived</th>\n",
       "      <th>Pclass</th>\n",
       "      <th>Sex</th>\n",
       "      <th>Age</th>\n",
       "      <th>Fare</th>\n",
       "      <th>Embarked</th>\n",
       "      <th>Fam_Size</th>\n",
       "      <th>Cabin_Id</th>\n",
       "    </tr>\n",
       "  </thead>\n",
       "  <tbody>\n",
       "    <tr>\n",
       "      <th>0</th>\n",
       "      <td>0</td>\n",
       "      <td>3</td>\n",
       "      <td>male</td>\n",
       "      <td>22.0</td>\n",
       "      <td>7.2500</td>\n",
       "      <td>S</td>\n",
       "      <td>1</td>\n",
       "      <td>NaN</td>\n",
       "    </tr>\n",
       "    <tr>\n",
       "      <th>1</th>\n",
       "      <td>1</td>\n",
       "      <td>1</td>\n",
       "      <td>female</td>\n",
       "      <td>38.0</td>\n",
       "      <td>71.2833</td>\n",
       "      <td>C</td>\n",
       "      <td>1</td>\n",
       "      <td>C</td>\n",
       "    </tr>\n",
       "    <tr>\n",
       "      <th>2</th>\n",
       "      <td>1</td>\n",
       "      <td>3</td>\n",
       "      <td>female</td>\n",
       "      <td>26.0</td>\n",
       "      <td>7.9250</td>\n",
       "      <td>S</td>\n",
       "      <td>0</td>\n",
       "      <td>NaN</td>\n",
       "    </tr>\n",
       "    <tr>\n",
       "      <th>3</th>\n",
       "      <td>1</td>\n",
       "      <td>1</td>\n",
       "      <td>female</td>\n",
       "      <td>35.0</td>\n",
       "      <td>53.1000</td>\n",
       "      <td>S</td>\n",
       "      <td>1</td>\n",
       "      <td>C</td>\n",
       "    </tr>\n",
       "    <tr>\n",
       "      <th>4</th>\n",
       "      <td>0</td>\n",
       "      <td>3</td>\n",
       "      <td>male</td>\n",
       "      <td>35.0</td>\n",
       "      <td>8.0500</td>\n",
       "      <td>S</td>\n",
       "      <td>0</td>\n",
       "      <td>NaN</td>\n",
       "    </tr>\n",
       "  </tbody>\n",
       "</table>\n",
       "</div>"
      ],
      "text/plain": [
       "   Survived  Pclass     Sex   Age     Fare Embarked  Fam_Size Cabin_Id\n",
       "0         0       3    male  22.0   7.2500        S         1      NaN\n",
       "1         1       1  female  38.0  71.2833        C         1        C\n",
       "2         1       3  female  26.0   7.9250        S         0      NaN\n",
       "3         1       1  female  35.0  53.1000        S         1        C\n",
       "4         0       3    male  35.0   8.0500        S         0      NaN"
      ]
     },
     "execution_count": 20,
     "metadata": {},
     "output_type": "execute_result"
    }
   ],
   "source": [
    "# As we can see above that cabin is alphnumeric , here we are not interted in the end digit of cabin lets just filter out\n",
    "#first letter of cabin that way we will have a categorical variable(easy to analyze).\n",
    "train_data['Cabin_Id'] = train_data['Cabin'].str[0]\n",
    "#now we have our required data in cabin_id column we don't need 'Cabin' anymore\n",
    "del train_data['Cabin']\n",
    "train_data.head()"
   ]
  },
  {
   "cell_type": "markdown",
   "metadata": {
    "_cell_guid": "77f1fa0a-4320-4c24-83d2-0b7c78d8680a",
    "_uuid": "3a251e8af08b8f5e0d0ad94cbb7768992476cc82"
   },
   "source": [
    "# We will predict the missing values of Cabin_id by applying multiclass classifer algorithms on features 'Fam_Size','Fare','Pclass','Survived' ."
   ]
  },
  {
   "cell_type": "code",
   "execution_count": 21,
   "metadata": {
    "_cell_guid": "ee0d552b-5147-4854-a047-3e10bd72926d",
    "_uuid": "c9d2358bb660d2168fbcb1a8d0a66bbcbdd7908e"
   },
   "outputs": [
    {
     "data": {
      "text/html": [
       "<div>\n",
       "<style>\n",
       "    .dataframe thead tr:only-child th {\n",
       "        text-align: right;\n",
       "    }\n",
       "\n",
       "    .dataframe thead th {\n",
       "        text-align: left;\n",
       "    }\n",
       "\n",
       "    .dataframe tbody tr th {\n",
       "        vertical-align: top;\n",
       "    }\n",
       "</style>\n",
       "<table border=\"1\" class=\"dataframe\">\n",
       "  <thead>\n",
       "    <tr style=\"text-align: right;\">\n",
       "      <th></th>\n",
       "      <th>Survived</th>\n",
       "      <th>Pclass</th>\n",
       "      <th>Sex</th>\n",
       "      <th>Age</th>\n",
       "      <th>Fare</th>\n",
       "      <th>Embarked</th>\n",
       "      <th>Fam_Size</th>\n",
       "      <th>Cabin_Id</th>\n",
       "    </tr>\n",
       "  </thead>\n",
       "  <tbody>\n",
       "    <tr>\n",
       "      <th>1</th>\n",
       "      <td>1</td>\n",
       "      <td>1</td>\n",
       "      <td>female</td>\n",
       "      <td>38.0</td>\n",
       "      <td>71.2833</td>\n",
       "      <td>C</td>\n",
       "      <td>1</td>\n",
       "      <td>C</td>\n",
       "    </tr>\n",
       "    <tr>\n",
       "      <th>3</th>\n",
       "      <td>1</td>\n",
       "      <td>1</td>\n",
       "      <td>female</td>\n",
       "      <td>35.0</td>\n",
       "      <td>53.1000</td>\n",
       "      <td>S</td>\n",
       "      <td>1</td>\n",
       "      <td>C</td>\n",
       "    </tr>\n",
       "    <tr>\n",
       "      <th>6</th>\n",
       "      <td>0</td>\n",
       "      <td>1</td>\n",
       "      <td>male</td>\n",
       "      <td>54.0</td>\n",
       "      <td>51.8625</td>\n",
       "      <td>S</td>\n",
       "      <td>0</td>\n",
       "      <td>E</td>\n",
       "    </tr>\n",
       "    <tr>\n",
       "      <th>10</th>\n",
       "      <td>1</td>\n",
       "      <td>3</td>\n",
       "      <td>female</td>\n",
       "      <td>4.0</td>\n",
       "      <td>16.7000</td>\n",
       "      <td>S</td>\n",
       "      <td>2</td>\n",
       "      <td>G</td>\n",
       "    </tr>\n",
       "    <tr>\n",
       "      <th>11</th>\n",
       "      <td>1</td>\n",
       "      <td>1</td>\n",
       "      <td>female</td>\n",
       "      <td>58.0</td>\n",
       "      <td>26.5500</td>\n",
       "      <td>S</td>\n",
       "      <td>0</td>\n",
       "      <td>C</td>\n",
       "    </tr>\n",
       "  </tbody>\n",
       "</table>\n",
       "</div>"
      ],
      "text/plain": [
       "    Survived  Pclass     Sex   Age     Fare Embarked  Fam_Size Cabin_Id\n",
       "1          1       1  female  38.0  71.2833        C         1        C\n",
       "3          1       1  female  35.0  53.1000        S         1        C\n",
       "6          0       1    male  54.0  51.8625        S         0        E\n",
       "10         1       3  female   4.0  16.7000        S         2        G\n",
       "11         1       1  female  58.0  26.5500        S         0        C"
      ]
     },
     "execution_count": 21,
     "metadata": {},
     "output_type": "execute_result"
    }
   ],
   "source": [
    "new_train=train_data[train_data['Cabin_Id'].notnull()]\n",
    "new_train.head()"
   ]
  },
  {
   "cell_type": "code",
   "execution_count": 22,
   "metadata": {
    "_cell_guid": "3a5225ec-d7db-4cb8-9404-1ab177ed1519",
    "_uuid": "4ef4bbac4a128123ae3cb60010cf2bc041395fe9",
    "collapsed": true
   },
   "outputs": [],
   "source": [
    "# depedent variables\n",
    "X = new_train.iloc[:,[0,1,4,6]].values\n",
    "y = new_train.iloc[:,7].values\n"
   ]
  },
  {
   "cell_type": "markdown",
   "metadata": {
    "_cell_guid": "225d6786-786b-425c-8a1e-7de624e29186",
    "_uuid": "cb4867c4017ff9732fbd94c3fa64704d17e9dd00"
   },
   "source": [
    "# SVM"
   ]
  },
  {
   "cell_type": "code",
   "execution_count": 23,
   "metadata": {
    "_cell_guid": "6a8ecb40-d3ec-41ca-9c3d-d90e58d693ca",
    "_uuid": "48a37a6196dd97d979c512d63fa2f6c60b603747"
   },
   "outputs": [
    {
     "name": "stderr",
     "output_type": "stream",
     "text": [
      "/Applications/anaconda/lib/python3.6/site-packages/sklearn/model_selection/_split.py:597: Warning: The least populated class in y has only 1 members, which is too few. The minimum number of members in any class cannot be less than n_splits=4.\n",
      "  % (min_groups, self.n_splits)), Warning)\n"
     ]
    },
    {
     "data": {
      "text/plain": [
       "0.34347766884531589"
      ]
     },
     "execution_count": 23,
     "metadata": {},
     "output_type": "execute_result"
    }
   ],
   "source": [
    "from sklearn.model_selection import cross_val_score, ShuffleSplit\n",
    "from sklearn.svm import SVC\n",
    "clf = SVC(kernel='linear', C=1)\n",
    "clf.fit(X,y)\n",
    "cv = ShuffleSplit(n_splits=10, test_size=0.20, random_state=0)\n",
    "scores = cross_val_score(clf, X, y, cv=4)\n",
    "scores.mean()                                              \n"
   ]
  },
  {
   "cell_type": "markdown",
   "metadata": {
    "_cell_guid": "7fc047ba-5faa-4bc8-a709-dbd761eca143",
    "_uuid": "ed85435c617ef925e90737b2f12052a429f6068a"
   },
   "source": [
    "# LogisticRegression"
   ]
  },
  {
   "cell_type": "code",
   "execution_count": 24,
   "metadata": {
    "_cell_guid": "e174bdc2-8230-4d6f-894d-661cd820bb4b",
    "_uuid": "01cf9ff08e307467896a3c00256ba36291998b7e"
   },
   "outputs": [
    {
     "name": "stderr",
     "output_type": "stream",
     "text": [
      "/Applications/anaconda/lib/python3.6/site-packages/sklearn/model_selection/_split.py:597: Warning: The least populated class in y has only 1 members, which is too few. The minimum number of members in any class cannot be less than n_splits=4.\n",
      "  % (min_groups, self.n_splits)), Warning)\n"
     ]
    },
    {
     "data": {
      "text/plain": [
       "0.30072167755991286"
      ]
     },
     "execution_count": 24,
     "metadata": {},
     "output_type": "execute_result"
    }
   ],
   "source": [
    "from sklearn.model_selection import cross_val_score\n",
    "from sklearn.linear_model import LogisticRegression\n",
    "clf = LogisticRegression()\n",
    "clf.fit(X,y)\n",
    "cv = ShuffleSplit(n_splits=10, test_size=0.20, random_state=0)\n",
    "scores = cross_val_score(clf, X, y, cv=4)\n",
    "scores.mean()                                              \n"
   ]
  },
  {
   "cell_type": "markdown",
   "metadata": {
    "_cell_guid": "6e52087a-8f9a-42dd-967d-e14b46f34624",
    "_uuid": "ae9b521fbf5f0049ade879e668f4155e8dfe8fd6"
   },
   "source": [
    "# Random Forest Classifier"
   ]
  },
  {
   "cell_type": "code",
   "execution_count": 25,
   "metadata": {
    "_cell_guid": "e04042dc-5455-497f-9450-ec84004261ee",
    "_uuid": "7d199bfe75e7fcdce0bdff31662abfcc9ba07f00"
   },
   "outputs": [
    {
     "name": "stderr",
     "output_type": "stream",
     "text": [
      "/Applications/anaconda/lib/python3.6/site-packages/sklearn/model_selection/_split.py:597: Warning: The least populated class in y has only 1 members, which is too few. The minimum number of members in any class cannot be less than n_splits=4.\n",
      "  % (min_groups, self.n_splits)), Warning)\n"
     ]
    },
    {
     "data": {
      "text/plain": [
       "0.50517429193899777"
      ]
     },
     "execution_count": 25,
     "metadata": {},
     "output_type": "execute_result"
    }
   ],
   "source": [
    "from sklearn.ensemble import RandomForestClassifier\n",
    "clf = RandomForestClassifier(max_depth=10,random_state=0)\n",
    "clf.fit(X,y)\n",
    "cv = ShuffleSplit(n_splits=10, test_size=0.20, random_state=0)\n",
    "scores = cross_val_score(clf, X, y, cv=4)\n",
    "scores.mean() "
   ]
  },
  {
   "cell_type": "markdown",
   "metadata": {
    "_cell_guid": "fea5242a-b8f2-48f0-a566-f60bd13a6fbd",
    "_uuid": "682db18af75cb0e1de81856c79a71399c831ad15"
   },
   "source": [
    "# KNN"
   ]
  },
  {
   "cell_type": "code",
   "execution_count": 26,
   "metadata": {
    "_cell_guid": "8bad667a-8a2b-4d55-be36-b0cee45da814",
    "_uuid": "c08e87b7f7be281e007272ff08ef6ce26242bd1b"
   },
   "outputs": [
    {
     "name": "stderr",
     "output_type": "stream",
     "text": [
      "/Applications/anaconda/lib/python3.6/site-packages/sklearn/model_selection/_split.py:597: Warning: The least populated class in y has only 1 members, which is too few. The minimum number of members in any class cannot be less than n_splits=4.\n",
      "  % (min_groups, self.n_splits)), Warning)\n"
     ]
    },
    {
     "data": {
      "text/plain": [
       "0.58289079520697173"
      ]
     },
     "execution_count": 26,
     "metadata": {},
     "output_type": "execute_result"
    }
   ],
   "source": [
    "from sklearn.neighbors import KNeighborsClassifier\n",
    "clf = KNeighborsClassifier(n_neighbors=1)\n",
    "clf.fit(X,y)\n",
    "cv = ShuffleSplit(n_splits=10, test_size=0.20, random_state=0)\n",
    "scores = cross_val_score(clf, X, y, cv=4)\n",
    "scores.mean() "
   ]
  },
  {
   "cell_type": "markdown",
   "metadata": {
    "_cell_guid": "09498cb0-5286-4bbf-ab11-da07375bbe03",
    "_uuid": "83a5f8453d8b9f27ed142445142336cb926534f3"
   },
   "source": [
    "# This is the best accurcy i could get for Missing values in \"Cabin\" Using KNN. Lets predict the values for remaining Nans in 'Cabin'"
   ]
  },
  {
   "cell_type": "code",
   "execution_count": 27,
   "metadata": {
    "_cell_guid": "904ec1b5-10fe-464c-8fa0-27452b7af395",
    "_uuid": "cae7db070c2853b62325fc34067f11573a29c520",
    "collapsed": true
   },
   "outputs": [],
   "source": [
    "# here new_train will store all the data with Nan In Cabin\n",
    "df=train_data[train_data['Cabin_Id'].isnull()]\n",
    "df.head()\n",
    "k = df.iloc[:,[0,1,4,6]].values\n",
    "pred = clf.predict(k)"
   ]
  },
  {
   "cell_type": "code",
   "execution_count": 28,
   "metadata": {
    "_cell_guid": "271bb7fc-c1d1-4c76-b984-be93ec94b034",
    "_uuid": "59fbdcdf8eae46cae727d2bf07c57f7396306e2a"
   },
   "outputs": [
    {
     "name": "stderr",
     "output_type": "stream",
     "text": [
      "/Applications/anaconda/lib/python3.6/site-packages/ipykernel_launcher.py:2: SettingWithCopyWarning: \n",
      "A value is trying to be set on a copy of a slice from a DataFrame.\n",
      "Try using .loc[row_indexer,col_indexer] = value instead\n",
      "\n",
      "See the caveats in the documentation: http://pandas.pydata.org/pandas-docs/stable/indexing.html#indexing-view-versus-copy\n",
      "  \n"
     ]
    },
    {
     "data": {
      "text/html": [
       "<div>\n",
       "<style>\n",
       "    .dataframe thead tr:only-child th {\n",
       "        text-align: right;\n",
       "    }\n",
       "\n",
       "    .dataframe thead th {\n",
       "        text-align: left;\n",
       "    }\n",
       "\n",
       "    .dataframe tbody tr th {\n",
       "        vertical-align: top;\n",
       "    }\n",
       "</style>\n",
       "<table border=\"1\" class=\"dataframe\">\n",
       "  <thead>\n",
       "    <tr style=\"text-align: right;\">\n",
       "      <th></th>\n",
       "      <th>Survived</th>\n",
       "      <th>Pclass</th>\n",
       "      <th>Sex</th>\n",
       "      <th>Age</th>\n",
       "      <th>Fare</th>\n",
       "      <th>Embarked</th>\n",
       "      <th>Fam_Size</th>\n",
       "      <th>Cabin_Id</th>\n",
       "    </tr>\n",
       "  </thead>\n",
       "  <tbody>\n",
       "    <tr>\n",
       "      <th>1</th>\n",
       "      <td>1</td>\n",
       "      <td>1</td>\n",
       "      <td>female</td>\n",
       "      <td>38.0</td>\n",
       "      <td>71.2833</td>\n",
       "      <td>C</td>\n",
       "      <td>1</td>\n",
       "      <td>C</td>\n",
       "    </tr>\n",
       "    <tr>\n",
       "      <th>3</th>\n",
       "      <td>1</td>\n",
       "      <td>1</td>\n",
       "      <td>female</td>\n",
       "      <td>35.0</td>\n",
       "      <td>53.1000</td>\n",
       "      <td>S</td>\n",
       "      <td>1</td>\n",
       "      <td>C</td>\n",
       "    </tr>\n",
       "    <tr>\n",
       "      <th>6</th>\n",
       "      <td>0</td>\n",
       "      <td>1</td>\n",
       "      <td>male</td>\n",
       "      <td>54.0</td>\n",
       "      <td>51.8625</td>\n",
       "      <td>S</td>\n",
       "      <td>0</td>\n",
       "      <td>E</td>\n",
       "    </tr>\n",
       "    <tr>\n",
       "      <th>10</th>\n",
       "      <td>1</td>\n",
       "      <td>3</td>\n",
       "      <td>female</td>\n",
       "      <td>4.0</td>\n",
       "      <td>16.7000</td>\n",
       "      <td>S</td>\n",
       "      <td>2</td>\n",
       "      <td>G</td>\n",
       "    </tr>\n",
       "    <tr>\n",
       "      <th>11</th>\n",
       "      <td>1</td>\n",
       "      <td>1</td>\n",
       "      <td>female</td>\n",
       "      <td>58.0</td>\n",
       "      <td>26.5500</td>\n",
       "      <td>S</td>\n",
       "      <td>0</td>\n",
       "      <td>C</td>\n",
       "    </tr>\n",
       "  </tbody>\n",
       "</table>\n",
       "</div>"
      ],
      "text/plain": [
       "    Survived  Pclass     Sex   Age     Fare Embarked  Fam_Size Cabin_Id\n",
       "1          1       1  female  38.0  71.2833        C         1        C\n",
       "3          1       1  female  35.0  53.1000        S         1        C\n",
       "6          0       1    male  54.0  51.8625        S         0        E\n",
       "10         1       3  female   4.0  16.7000        S         2        G\n",
       "11         1       1  female  58.0  26.5500        S         0        C"
      ]
     },
     "execution_count": 28,
     "metadata": {},
     "output_type": "execute_result"
    }
   ],
   "source": [
    "#now add these predicted values of Cabin_Id to datafraem\n",
    "df['Cabin_Id'] = pred\n",
    "train_data = new_train.append(df)\n",
    "train_data.head()"
   ]
  },
  {
   "cell_type": "markdown",
   "metadata": {
    "_cell_guid": "358b6abf-8b22-4a87-8d60-6162f74d77ba",
    "_uuid": "c2992bbba44a5a962900e63ce80fcd6702eae8ed"
   },
   "source": [
    "# Handling Missing Values in AGE\n",
    "- It is continuous variable so will be using Regression to fill the empty spots"
   ]
  },
  {
   "cell_type": "code",
   "execution_count": 29,
   "metadata": {
    "_cell_guid": "7ba986f8-cd8d-478e-aca1-7758c4fabb9a",
    "_uuid": "2aa764d78a20fb58706ea06e39d6fa68fb459290",
    "collapsed": true
   },
   "outputs": [],
   "source": [
    "# new dataframe- Contains the rows with known age\n",
    "new_train = train_data[train_data[\"Age\"].notnull()]\n",
    "new_train.head()\n",
    "# features\n",
    "X = new_train.iloc[:,[0,1,4,6]].values\n",
    "# Age \n",
    "y = new_train.iloc[:,3].values"
   ]
  },
  {
   "cell_type": "markdown",
   "metadata": {
    "_cell_guid": "8850bf7f-beaa-4414-a38d-7bbb2c0b7825",
    "_uuid": "551645640f39b94e20e8afa810a99427ade95ff2"
   },
   "source": [
    "# Predicting Age Using Lasso"
   ]
  },
  {
   "cell_type": "code",
   "execution_count": 30,
   "metadata": {
    "_cell_guid": "2b0cd3f8-d28d-4294-9388-5bd5749c41dc",
    "_uuid": "8e609a10cd896b19e2feb52930f1d39d9955305c"
   },
   "outputs": [
    {
     "name": "stderr",
     "output_type": "stream",
     "text": [
      "/Applications/anaconda/lib/python3.6/site-packages/sklearn/cross_validation.py:41: DeprecationWarning: This module was deprecated in version 0.18 in favor of the model_selection module into which all the refactored classes and functions are moved. Also note that the interface of the new CV iterators are different from that of this module. This module will be removed in 0.20.\n",
      "  \"This module will be removed in 0.20.\", DeprecationWarning)\n"
     ]
    },
    {
     "data": {
      "text/plain": [
       "165.6432607663989"
      ]
     },
     "execution_count": 30,
     "metadata": {},
     "output_type": "execute_result"
    }
   ],
   "source": [
    "from sklearn import linear_model\n",
    "from sklearn.cross_validation import train_test_split\n",
    "from sklearn.metrics import mean_squared_error\n",
    "X_train,X_val,y_train,y_val=train_test_split(X,y,test_size=0.20,random_state=0)\n",
    "reg = linear_model.Lasso (alpha = 0.1)\n",
    "reg.fit(X_train,y_train)\n",
    "y_pred=reg.predict(X_val)\n",
    "# Calculating Mean Square Error\n",
    "mean_squared_error(y_val, y_pred) "
   ]
  },
  {
   "cell_type": "markdown",
   "metadata": {
    "_cell_guid": "36b2cb3c-46a8-4a26-8c39-17f7e86ec779",
    "_uuid": "306ba2d7072f896d5fd3bbdb19c56f93bf0b0722"
   },
   "source": [
    "# Predicting Age Using Ridge Regression"
   ]
  },
  {
   "cell_type": "code",
   "execution_count": 31,
   "metadata": {
    "_cell_guid": "905eca0f-6fd8-4d8b-900d-89607963ede8",
    "_uuid": "3dae1e796600004a724af0fbf8f20012a7857fe8"
   },
   "outputs": [
    {
     "data": {
      "text/plain": [
       "165.09054642108487"
      ]
     },
     "execution_count": 31,
     "metadata": {},
     "output_type": "execute_result"
    }
   ],
   "source": [
    "from sklearn import linear_model\n",
    "from sklearn.cross_validation import train_test_split\n",
    "from sklearn.metrics import mean_squared_error\n",
    "X_train,X_val,y_train,y_val=train_test_split(X,y,test_size=0.20,random_state=0)\n",
    "reg = linear_model.Ridge (alpha = 0.1)\n",
    "reg.fit(X_train,y_train)\n",
    "y_pred=reg.predict(X_val)\n",
    "# Calculating Mean Square Error\n",
    "mean_squared_error(y_val, y_pred) "
   ]
  },
  {
   "cell_type": "markdown",
   "metadata": {
    "_cell_guid": "3d6757b5-a253-4653-90fb-b3345089abb6",
    "_uuid": "ed39d1cfe216befb90dcf2906271ea118bbf4397"
   },
   "source": [
    "# 165 is the mean squared error of our regression model for AGE lets compare it with mean squared error when we use Mean Instead of Regression predictions"
   ]
  },
  {
   "cell_type": "code",
   "execution_count": 32,
   "metadata": {
    "_cell_guid": "2607b5d2-f4b9-480f-8115-796a7cb55301",
    "_uuid": "5fba2f5afc9e13192e8c4de51adc7ce80825890b"
   },
   "outputs": [
    {
     "data": {
      "text/plain": [
       "220.7010686072949"
      ]
     },
     "execution_count": 32,
     "metadata": {},
     "output_type": "execute_result"
    }
   ],
   "source": [
    "#Compaer it with mean\n",
    "y_mean =np.empty(143)\n",
    "y_mean.fill(y_pred.sum()/len(y_pred))\n",
    "mean_squared_error(y_val, y_mean) "
   ]
  },
  {
   "cell_type": "markdown",
   "metadata": {
    "_cell_guid": "496c3127-536e-43cf-a4f5-7233bf85a6ab",
    "_uuid": "6f2de9950d82c6337841d671e97792426144306d"
   },
   "source": [
    "# MSE if Age is filled by mean= 220\n",
    "# MSE if Age is filled by Regression Prediction = 165\n",
    "Now lets fill our missing Age with predicted values"
   ]
  },
  {
   "cell_type": "code",
   "execution_count": 33,
   "metadata": {
    "_cell_guid": "da6b76ba-d124-4e9a-a06e-9915a97ea3fb",
    "_uuid": "930f0c03fe4753b1e1066c634378f021c927b618"
   },
   "outputs": [
    {
     "name": "stderr",
     "output_type": "stream",
     "text": [
      "/Applications/anaconda/lib/python3.6/site-packages/ipykernel_launcher.py:6: SettingWithCopyWarning: \n",
      "A value is trying to be set on a copy of a slice from a DataFrame.\n",
      "Try using .loc[row_indexer,col_indexer] = value instead\n",
      "\n",
      "See the caveats in the documentation: http://pandas.pydata.org/pandas-docs/stable/indexing.html#indexing-view-versus-copy\n",
      "  \n"
     ]
    }
   ],
   "source": [
    "df=train_data[train_data[\"Age\"].isnull()]\n",
    "# features\n",
    "X = df.iloc[:,[0,1,4,6]].values\n",
    "# Age \n",
    "y = reg.predict(X)\n",
    "df['Age']=y\n",
    "train_data = new_train.append(df)"
   ]
  },
  {
   "cell_type": "markdown",
   "metadata": {
    "_cell_guid": "e5aeb649-28a2-4108-a7d4-02dc21c84c30",
    "_uuid": "d23d5d200745c07321df1b84290b8d427aaeaed1"
   },
   "source": [
    "# Lets Look at our training data now- (No Missing Values)"
   ]
  },
  {
   "cell_type": "code",
   "execution_count": 34,
   "metadata": {
    "_cell_guid": "0999acb8-2833-4022-ab3e-6682ebf5b760",
    "_uuid": "c20fdbbd2e78fac6ee1076aa35e1ec53af881f2c"
   },
   "outputs": [
    {
     "name": "stdout",
     "output_type": "stream",
     "text": [
      "<class 'pandas.core.frame.DataFrame'>\n",
      "Int64Index: 891 entries, 1 to 888\n",
      "Data columns (total 8 columns):\n",
      "Survived    891 non-null int64\n",
      "Pclass      891 non-null int64\n",
      "Sex         891 non-null object\n",
      "Age         891 non-null float64\n",
      "Fare        891 non-null float64\n",
      "Embarked    891 non-null object\n",
      "Fam_Size    891 non-null int64\n",
      "Cabin_Id    891 non-null object\n",
      "dtypes: float64(2), int64(3), object(3)\n",
      "memory usage: 62.6+ KB\n"
     ]
    }
   ],
   "source": [
    "train_data.info()"
   ]
  },
  {
   "cell_type": "markdown",
   "metadata": {
    "_cell_guid": "20939184-9124-44a8-9898-cae94a1538d9",
    "_uuid": "38ee8c448c250125903cf324ab86957686cd3403"
   },
   "source": [
    "# 2.3) Converting Categorical Features to Numeric data"
   ]
  },
  {
   "cell_type": "code",
   "execution_count": 35,
   "metadata": {
    "_cell_guid": "4c061344-c9e7-47d2-8529-de8b3851ac20",
    "_uuid": "92ac883fff3e2e9e1e4d6f956c19ae77ea1da32d"
   },
   "outputs": [
    {
     "data": {
      "text/html": [
       "<div>\n",
       "<style>\n",
       "    .dataframe thead tr:only-child th {\n",
       "        text-align: right;\n",
       "    }\n",
       "\n",
       "    .dataframe thead th {\n",
       "        text-align: left;\n",
       "    }\n",
       "\n",
       "    .dataframe tbody tr th {\n",
       "        vertical-align: top;\n",
       "    }\n",
       "</style>\n",
       "<table border=\"1\" class=\"dataframe\">\n",
       "  <thead>\n",
       "    <tr style=\"text-align: right;\">\n",
       "      <th></th>\n",
       "      <th>Survived</th>\n",
       "      <th>Pclass</th>\n",
       "      <th>Sex</th>\n",
       "      <th>Age</th>\n",
       "      <th>Fare</th>\n",
       "      <th>Embarked</th>\n",
       "      <th>Fam_Size</th>\n",
       "      <th>Cabin_Id</th>\n",
       "    </tr>\n",
       "  </thead>\n",
       "  <tbody>\n",
       "    <tr>\n",
       "      <th>1</th>\n",
       "      <td>1</td>\n",
       "      <td>1</td>\n",
       "      <td>female</td>\n",
       "      <td>38.0</td>\n",
       "      <td>71.2833</td>\n",
       "      <td>C</td>\n",
       "      <td>1</td>\n",
       "      <td>C</td>\n",
       "    </tr>\n",
       "    <tr>\n",
       "      <th>3</th>\n",
       "      <td>1</td>\n",
       "      <td>1</td>\n",
       "      <td>female</td>\n",
       "      <td>35.0</td>\n",
       "      <td>53.1000</td>\n",
       "      <td>S</td>\n",
       "      <td>1</td>\n",
       "      <td>C</td>\n",
       "    </tr>\n",
       "    <tr>\n",
       "      <th>6</th>\n",
       "      <td>0</td>\n",
       "      <td>1</td>\n",
       "      <td>male</td>\n",
       "      <td>54.0</td>\n",
       "      <td>51.8625</td>\n",
       "      <td>S</td>\n",
       "      <td>0</td>\n",
       "      <td>E</td>\n",
       "    </tr>\n",
       "    <tr>\n",
       "      <th>10</th>\n",
       "      <td>1</td>\n",
       "      <td>3</td>\n",
       "      <td>female</td>\n",
       "      <td>4.0</td>\n",
       "      <td>16.7000</td>\n",
       "      <td>S</td>\n",
       "      <td>2</td>\n",
       "      <td>G</td>\n",
       "    </tr>\n",
       "    <tr>\n",
       "      <th>11</th>\n",
       "      <td>1</td>\n",
       "      <td>1</td>\n",
       "      <td>female</td>\n",
       "      <td>58.0</td>\n",
       "      <td>26.5500</td>\n",
       "      <td>S</td>\n",
       "      <td>0</td>\n",
       "      <td>C</td>\n",
       "    </tr>\n",
       "  </tbody>\n",
       "</table>\n",
       "</div>"
      ],
      "text/plain": [
       "    Survived  Pclass     Sex   Age     Fare Embarked  Fam_Size Cabin_Id\n",
       "1          1       1  female  38.0  71.2833        C         1        C\n",
       "3          1       1  female  35.0  53.1000        S         1        C\n",
       "6          0       1    male  54.0  51.8625        S         0        E\n",
       "10         1       3  female   4.0  16.7000        S         2        G\n",
       "11         1       1  female  58.0  26.5500        S         0        C"
      ]
     },
     "execution_count": 35,
     "metadata": {},
     "output_type": "execute_result"
    }
   ],
   "source": [
    "train_data.head()\n",
    "#We have Sex, Embarked, Cabin_id as categorical features"
   ]
  },
  {
   "cell_type": "markdown",
   "metadata": {
    "_cell_guid": "b95118fc-c067-4320-838d-3933a4df546a",
    "_uuid": "49228c74abc0860e32d099adc3b5c902feae273f"
   },
   "source": [
    "# These features are non ordinal-categorical features , direct assignment of numeric valuse will lead to bad predictions so here we will use \"dummies\"\n",
    "---\n",
    "# Embark"
   ]
  },
  {
   "cell_type": "code",
   "execution_count": 36,
   "metadata": {
    "_cell_guid": "b0381591-fc9a-4216-9e4c-9c8e3eeff2d1",
    "_uuid": "610c2ba4170f8009008019a6c059c2c3d9d34bad"
   },
   "outputs": [
    {
     "data": {
      "text/html": [
       "<div>\n",
       "<style>\n",
       "    .dataframe thead tr:only-child th {\n",
       "        text-align: right;\n",
       "    }\n",
       "\n",
       "    .dataframe thead th {\n",
       "        text-align: left;\n",
       "    }\n",
       "\n",
       "    .dataframe tbody tr th {\n",
       "        vertical-align: top;\n",
       "    }\n",
       "</style>\n",
       "<table border=\"1\" class=\"dataframe\">\n",
       "  <thead>\n",
       "    <tr style=\"text-align: right;\">\n",
       "      <th></th>\n",
       "      <th>C</th>\n",
       "      <th>Q</th>\n",
       "      <th>S</th>\n",
       "    </tr>\n",
       "  </thead>\n",
       "  <tbody>\n",
       "    <tr>\n",
       "      <th>1</th>\n",
       "      <td>1</td>\n",
       "      <td>0</td>\n",
       "      <td>0</td>\n",
       "    </tr>\n",
       "    <tr>\n",
       "      <th>3</th>\n",
       "      <td>0</td>\n",
       "      <td>0</td>\n",
       "      <td>1</td>\n",
       "    </tr>\n",
       "    <tr>\n",
       "      <th>6</th>\n",
       "      <td>0</td>\n",
       "      <td>0</td>\n",
       "      <td>1</td>\n",
       "    </tr>\n",
       "    <tr>\n",
       "      <th>10</th>\n",
       "      <td>0</td>\n",
       "      <td>0</td>\n",
       "      <td>1</td>\n",
       "    </tr>\n",
       "    <tr>\n",
       "      <th>11</th>\n",
       "      <td>0</td>\n",
       "      <td>0</td>\n",
       "      <td>1</td>\n",
       "    </tr>\n",
       "  </tbody>\n",
       "</table>\n",
       "</div>"
      ],
      "text/plain": [
       "    C  Q  S\n",
       "1   1  0  0\n",
       "3   0  0  1\n",
       "6   0  0  1\n",
       "10  0  0  1\n",
       "11  0  0  1"
      ]
     },
     "execution_count": 36,
     "metadata": {},
     "output_type": "execute_result"
    }
   ],
   "source": [
    "Embark_dummy = pd.get_dummies(train_data[\"Embarked\"])\n",
    "Embark_dummy.head(5)"
   ]
  },
  {
   "cell_type": "markdown",
   "metadata": {
    "_cell_guid": "e5876b5c-91ec-491c-a544-7b437867f982",
    "_uuid": "2bf794e5556d401d0ec594768ee147321f6563cd"
   },
   "source": [
    "# Sex"
   ]
  },
  {
   "cell_type": "code",
   "execution_count": 37,
   "metadata": {
    "_cell_guid": "7ab0c60d-a97f-4759-8cf6-0985da30bcd8",
    "_uuid": "3fadf95ac49e2eb4103fd3efce8c94bece3349a7"
   },
   "outputs": [
    {
     "data": {
      "text/html": [
       "<div>\n",
       "<style>\n",
       "    .dataframe thead tr:only-child th {\n",
       "        text-align: right;\n",
       "    }\n",
       "\n",
       "    .dataframe thead th {\n",
       "        text-align: left;\n",
       "    }\n",
       "\n",
       "    .dataframe tbody tr th {\n",
       "        vertical-align: top;\n",
       "    }\n",
       "</style>\n",
       "<table border=\"1\" class=\"dataframe\">\n",
       "  <thead>\n",
       "    <tr style=\"text-align: right;\">\n",
       "      <th></th>\n",
       "      <th>female</th>\n",
       "      <th>male</th>\n",
       "    </tr>\n",
       "  </thead>\n",
       "  <tbody>\n",
       "    <tr>\n",
       "      <th>1</th>\n",
       "      <td>1</td>\n",
       "      <td>0</td>\n",
       "    </tr>\n",
       "    <tr>\n",
       "      <th>3</th>\n",
       "      <td>1</td>\n",
       "      <td>0</td>\n",
       "    </tr>\n",
       "    <tr>\n",
       "      <th>6</th>\n",
       "      <td>0</td>\n",
       "      <td>1</td>\n",
       "    </tr>\n",
       "    <tr>\n",
       "      <th>10</th>\n",
       "      <td>1</td>\n",
       "      <td>0</td>\n",
       "    </tr>\n",
       "    <tr>\n",
       "      <th>11</th>\n",
       "      <td>1</td>\n",
       "      <td>0</td>\n",
       "    </tr>\n",
       "  </tbody>\n",
       "</table>\n",
       "</div>"
      ],
      "text/plain": [
       "    female  male\n",
       "1        1     0\n",
       "3        1     0\n",
       "6        0     1\n",
       "10       1     0\n",
       "11       1     0"
      ]
     },
     "execution_count": 37,
     "metadata": {},
     "output_type": "execute_result"
    }
   ],
   "source": [
    "# we do not need to do for featre \"SEX\" because it is anyways in 2 categoreis but just for understansding lets do it.\n",
    "Sex_dummy = pd.get_dummies(train_data[\"Sex\"])\n",
    "Sex_dummy.head(5)"
   ]
  },
  {
   "cell_type": "markdown",
   "metadata": {
    "_cell_guid": "ef7ccf42-e2eb-4652-b96c-fbccc7ee0737",
    "_uuid": "15a7ad8698ae56f55c6ed105544745533a354276"
   },
   "source": [
    "# Cabin"
   ]
  },
  {
   "cell_type": "code",
   "execution_count": 38,
   "metadata": {
    "_cell_guid": "19d85c37-689a-4ccc-936a-d05159a08dd7",
    "_uuid": "e87f634dedefcfc92043bdf8daf05096845612bf"
   },
   "outputs": [
    {
     "data": {
      "text/html": [
       "<div>\n",
       "<style>\n",
       "    .dataframe thead tr:only-child th {\n",
       "        text-align: right;\n",
       "    }\n",
       "\n",
       "    .dataframe thead th {\n",
       "        text-align: left;\n",
       "    }\n",
       "\n",
       "    .dataframe tbody tr th {\n",
       "        vertical-align: top;\n",
       "    }\n",
       "</style>\n",
       "<table border=\"1\" class=\"dataframe\">\n",
       "  <thead>\n",
       "    <tr style=\"text-align: right;\">\n",
       "      <th></th>\n",
       "      <th>A</th>\n",
       "      <th>B</th>\n",
       "      <th>C</th>\n",
       "      <th>D</th>\n",
       "      <th>E</th>\n",
       "      <th>F</th>\n",
       "      <th>G</th>\n",
       "      <th>T</th>\n",
       "    </tr>\n",
       "  </thead>\n",
       "  <tbody>\n",
       "    <tr>\n",
       "      <th>1</th>\n",
       "      <td>0</td>\n",
       "      <td>0</td>\n",
       "      <td>1</td>\n",
       "      <td>0</td>\n",
       "      <td>0</td>\n",
       "      <td>0</td>\n",
       "      <td>0</td>\n",
       "      <td>0</td>\n",
       "    </tr>\n",
       "    <tr>\n",
       "      <th>3</th>\n",
       "      <td>0</td>\n",
       "      <td>0</td>\n",
       "      <td>1</td>\n",
       "      <td>0</td>\n",
       "      <td>0</td>\n",
       "      <td>0</td>\n",
       "      <td>0</td>\n",
       "      <td>0</td>\n",
       "    </tr>\n",
       "    <tr>\n",
       "      <th>6</th>\n",
       "      <td>0</td>\n",
       "      <td>0</td>\n",
       "      <td>0</td>\n",
       "      <td>0</td>\n",
       "      <td>1</td>\n",
       "      <td>0</td>\n",
       "      <td>0</td>\n",
       "      <td>0</td>\n",
       "    </tr>\n",
       "    <tr>\n",
       "      <th>10</th>\n",
       "      <td>0</td>\n",
       "      <td>0</td>\n",
       "      <td>0</td>\n",
       "      <td>0</td>\n",
       "      <td>0</td>\n",
       "      <td>0</td>\n",
       "      <td>1</td>\n",
       "      <td>0</td>\n",
       "    </tr>\n",
       "    <tr>\n",
       "      <th>11</th>\n",
       "      <td>0</td>\n",
       "      <td>0</td>\n",
       "      <td>1</td>\n",
       "      <td>0</td>\n",
       "      <td>0</td>\n",
       "      <td>0</td>\n",
       "      <td>0</td>\n",
       "      <td>0</td>\n",
       "    </tr>\n",
       "  </tbody>\n",
       "</table>\n",
       "</div>"
      ],
      "text/plain": [
       "    A  B  C  D  E  F  G  T\n",
       "1   0  0  1  0  0  0  0  0\n",
       "3   0  0  1  0  0  0  0  0\n",
       "6   0  0  0  0  1  0  0  0\n",
       "10  0  0  0  0  0  0  1  0\n",
       "11  0  0  1  0  0  0  0  0"
      ]
     },
     "execution_count": 38,
     "metadata": {},
     "output_type": "execute_result"
    }
   ],
   "source": [
    "Cabin_dummy = pd.get_dummies(train_data[\"Cabin_Id\"])\n",
    "Cabin_dummy.head(5)"
   ]
  },
  {
   "cell_type": "markdown",
   "metadata": {
    "_cell_guid": "c595c8e5-dfc3-4163-9dca-3e6438714bca",
    "_uuid": "f9ef1c05bdcfa1c7d26f46a426be9491c32e004d"
   },
   "source": [
    "# In order to make above values independent we need to delete 1 column from each of them."
   ]
  },
  {
   "cell_type": "code",
   "execution_count": 39,
   "metadata": {
    "_cell_guid": "2b3392c9-e245-4db7-b2a7-e7b46a09a20f",
    "_uuid": "083b8e047f38cef6b6069bb7be70b3d64ed1598d",
    "collapsed": true
   },
   "outputs": [],
   "source": [
    "del Embark_dummy['S']\n",
    "del Cabin_dummy['T']\n",
    "del Sex_dummy['female']"
   ]
  },
  {
   "cell_type": "markdown",
   "metadata": {
    "_cell_guid": "e3b8ad7b-7d67-49ed-8770-c54ebd70edb8",
    "_uuid": "7426f7ad9bde5c86d4162b750c98b55a47e71639"
   },
   "source": [
    "# Now lets add these featers to our train_data dataframe & delete old Embark,Cabin_id,Sex"
   ]
  },
  {
   "cell_type": "code",
   "execution_count": 40,
   "metadata": {
    "_cell_guid": "dd2643cf-5f37-4586-b0bc-1dfc16ef56c0",
    "_uuid": "2d159e46229e674ece3a4718ee8c5e8cc89bd751",
    "collapsed": true
   },
   "outputs": [],
   "source": [
    "train_data['Sex'] = Sex_dummy['male']\n",
    "train_data['Embark_C'] = Embark_dummy['C']\n",
    "train_data['Embark_Q'] = Embark_dummy['Q']\n",
    "train_data['Cabin_A'] = Cabin_dummy['A']\n",
    "train_data['Cabin_B'] = Cabin_dummy['B']\n",
    "train_data['Cabin_C'] = Cabin_dummy['C']\n",
    "train_data['Cabin_D'] = Cabin_dummy['D']\n",
    "train_data['Cabin_E'] = Cabin_dummy['E']\n",
    "train_data['Cabin_F'] = Cabin_dummy['F']\n",
    "train_data['Cabin_G'] = Cabin_dummy['G']\n",
    "del train_data['Sex']\n",
    "del train_data['Embarked']\n",
    "del train_data['Cabin_Id']"
   ]
  },
  {
   "cell_type": "markdown",
   "metadata": {
    "_cell_guid": "aec8d1f6-feef-43a3-a0a3-9aa5b4e10518",
    "_uuid": "c340af9336cad55635fcb91cbdb97181e2138d69"
   },
   "source": [
    "# Below is our completely processed data."
   ]
  },
  {
   "cell_type": "code",
   "execution_count": 41,
   "metadata": {
    "_cell_guid": "2800d749-a02e-4313-a2f5-e6caa2be6d7f",
    "_uuid": "e6679d51f9c4a6a8d27002504310c63eac127726"
   },
   "outputs": [
    {
     "data": {
      "text/html": [
       "<div>\n",
       "<style>\n",
       "    .dataframe thead tr:only-child th {\n",
       "        text-align: right;\n",
       "    }\n",
       "\n",
       "    .dataframe thead th {\n",
       "        text-align: left;\n",
       "    }\n",
       "\n",
       "    .dataframe tbody tr th {\n",
       "        vertical-align: top;\n",
       "    }\n",
       "</style>\n",
       "<table border=\"1\" class=\"dataframe\">\n",
       "  <thead>\n",
       "    <tr style=\"text-align: right;\">\n",
       "      <th></th>\n",
       "      <th>Survived</th>\n",
       "      <th>Pclass</th>\n",
       "      <th>Age</th>\n",
       "      <th>Fare</th>\n",
       "      <th>Fam_Size</th>\n",
       "      <th>Embark_C</th>\n",
       "      <th>Embark_Q</th>\n",
       "      <th>Cabin_A</th>\n",
       "      <th>Cabin_B</th>\n",
       "      <th>Cabin_C</th>\n",
       "      <th>Cabin_D</th>\n",
       "      <th>Cabin_E</th>\n",
       "      <th>Cabin_F</th>\n",
       "      <th>Cabin_G</th>\n",
       "    </tr>\n",
       "  </thead>\n",
       "  <tbody>\n",
       "    <tr>\n",
       "      <th>1</th>\n",
       "      <td>1</td>\n",
       "      <td>1</td>\n",
       "      <td>38.0</td>\n",
       "      <td>71.2833</td>\n",
       "      <td>1</td>\n",
       "      <td>1</td>\n",
       "      <td>0</td>\n",
       "      <td>0</td>\n",
       "      <td>0</td>\n",
       "      <td>1</td>\n",
       "      <td>0</td>\n",
       "      <td>0</td>\n",
       "      <td>0</td>\n",
       "      <td>0</td>\n",
       "    </tr>\n",
       "    <tr>\n",
       "      <th>3</th>\n",
       "      <td>1</td>\n",
       "      <td>1</td>\n",
       "      <td>35.0</td>\n",
       "      <td>53.1000</td>\n",
       "      <td>1</td>\n",
       "      <td>0</td>\n",
       "      <td>0</td>\n",
       "      <td>0</td>\n",
       "      <td>0</td>\n",
       "      <td>1</td>\n",
       "      <td>0</td>\n",
       "      <td>0</td>\n",
       "      <td>0</td>\n",
       "      <td>0</td>\n",
       "    </tr>\n",
       "    <tr>\n",
       "      <th>6</th>\n",
       "      <td>0</td>\n",
       "      <td>1</td>\n",
       "      <td>54.0</td>\n",
       "      <td>51.8625</td>\n",
       "      <td>0</td>\n",
       "      <td>0</td>\n",
       "      <td>0</td>\n",
       "      <td>0</td>\n",
       "      <td>0</td>\n",
       "      <td>0</td>\n",
       "      <td>0</td>\n",
       "      <td>1</td>\n",
       "      <td>0</td>\n",
       "      <td>0</td>\n",
       "    </tr>\n",
       "    <tr>\n",
       "      <th>10</th>\n",
       "      <td>1</td>\n",
       "      <td>3</td>\n",
       "      <td>4.0</td>\n",
       "      <td>16.7000</td>\n",
       "      <td>2</td>\n",
       "      <td>0</td>\n",
       "      <td>0</td>\n",
       "      <td>0</td>\n",
       "      <td>0</td>\n",
       "      <td>0</td>\n",
       "      <td>0</td>\n",
       "      <td>0</td>\n",
       "      <td>0</td>\n",
       "      <td>1</td>\n",
       "    </tr>\n",
       "    <tr>\n",
       "      <th>11</th>\n",
       "      <td>1</td>\n",
       "      <td>1</td>\n",
       "      <td>58.0</td>\n",
       "      <td>26.5500</td>\n",
       "      <td>0</td>\n",
       "      <td>0</td>\n",
       "      <td>0</td>\n",
       "      <td>0</td>\n",
       "      <td>0</td>\n",
       "      <td>1</td>\n",
       "      <td>0</td>\n",
       "      <td>0</td>\n",
       "      <td>0</td>\n",
       "      <td>0</td>\n",
       "    </tr>\n",
       "    <tr>\n",
       "      <th>21</th>\n",
       "      <td>1</td>\n",
       "      <td>2</td>\n",
       "      <td>34.0</td>\n",
       "      <td>13.0000</td>\n",
       "      <td>0</td>\n",
       "      <td>0</td>\n",
       "      <td>0</td>\n",
       "      <td>0</td>\n",
       "      <td>0</td>\n",
       "      <td>0</td>\n",
       "      <td>1</td>\n",
       "      <td>0</td>\n",
       "      <td>0</td>\n",
       "      <td>0</td>\n",
       "    </tr>\n",
       "    <tr>\n",
       "      <th>23</th>\n",
       "      <td>1</td>\n",
       "      <td>1</td>\n",
       "      <td>28.0</td>\n",
       "      <td>35.5000</td>\n",
       "      <td>0</td>\n",
       "      <td>0</td>\n",
       "      <td>0</td>\n",
       "      <td>1</td>\n",
       "      <td>0</td>\n",
       "      <td>0</td>\n",
       "      <td>0</td>\n",
       "      <td>0</td>\n",
       "      <td>0</td>\n",
       "      <td>0</td>\n",
       "    </tr>\n",
       "    <tr>\n",
       "      <th>27</th>\n",
       "      <td>0</td>\n",
       "      <td>1</td>\n",
       "      <td>19.0</td>\n",
       "      <td>263.0000</td>\n",
       "      <td>5</td>\n",
       "      <td>0</td>\n",
       "      <td>0</td>\n",
       "      <td>0</td>\n",
       "      <td>0</td>\n",
       "      <td>1</td>\n",
       "      <td>0</td>\n",
       "      <td>0</td>\n",
       "      <td>0</td>\n",
       "      <td>0</td>\n",
       "    </tr>\n",
       "    <tr>\n",
       "      <th>52</th>\n",
       "      <td>1</td>\n",
       "      <td>1</td>\n",
       "      <td>49.0</td>\n",
       "      <td>76.7292</td>\n",
       "      <td>1</td>\n",
       "      <td>1</td>\n",
       "      <td>0</td>\n",
       "      <td>0</td>\n",
       "      <td>0</td>\n",
       "      <td>0</td>\n",
       "      <td>1</td>\n",
       "      <td>0</td>\n",
       "      <td>0</td>\n",
       "      <td>0</td>\n",
       "    </tr>\n",
       "    <tr>\n",
       "      <th>54</th>\n",
       "      <td>0</td>\n",
       "      <td>1</td>\n",
       "      <td>65.0</td>\n",
       "      <td>61.9792</td>\n",
       "      <td>1</td>\n",
       "      <td>1</td>\n",
       "      <td>0</td>\n",
       "      <td>0</td>\n",
       "      <td>1</td>\n",
       "      <td>0</td>\n",
       "      <td>0</td>\n",
       "      <td>0</td>\n",
       "      <td>0</td>\n",
       "      <td>0</td>\n",
       "    </tr>\n",
       "  </tbody>\n",
       "</table>\n",
       "</div>"
      ],
      "text/plain": [
       "    Survived  Pclass   Age      Fare  Fam_Size  Embark_C  Embark_Q  Cabin_A  \\\n",
       "1          1       1  38.0   71.2833         1         1         0        0   \n",
       "3          1       1  35.0   53.1000         1         0         0        0   \n",
       "6          0       1  54.0   51.8625         0         0         0        0   \n",
       "10         1       3   4.0   16.7000         2         0         0        0   \n",
       "11         1       1  58.0   26.5500         0         0         0        0   \n",
       "21         1       2  34.0   13.0000         0         0         0        0   \n",
       "23         1       1  28.0   35.5000         0         0         0        1   \n",
       "27         0       1  19.0  263.0000         5         0         0        0   \n",
       "52         1       1  49.0   76.7292         1         1         0        0   \n",
       "54         0       1  65.0   61.9792         1         1         0        0   \n",
       "\n",
       "    Cabin_B  Cabin_C  Cabin_D  Cabin_E  Cabin_F  Cabin_G  \n",
       "1         0        1        0        0        0        0  \n",
       "3         0        1        0        0        0        0  \n",
       "6         0        0        0        1        0        0  \n",
       "10        0        0        0        0        0        1  \n",
       "11        0        1        0        0        0        0  \n",
       "21        0        0        1        0        0        0  \n",
       "23        0        0        0        0        0        0  \n",
       "27        0        1        0        0        0        0  \n",
       "52        0        0        1        0        0        0  \n",
       "54        1        0        0        0        0        0  "
      ]
     },
     "execution_count": 41,
     "metadata": {},
     "output_type": "execute_result"
    }
   ],
   "source": [
    "train_data.head(10)"
   ]
  },
  {
   "cell_type": "markdown",
   "metadata": {
    "_cell_guid": "a9f52dd4-302f-426b-9aa5-254852048ba1",
    "_uuid": "61a2478dbf2b2542e3500bc73f8accaca5d78674"
   },
   "source": [
    "# 3) Final Predictions\n",
    "---\n",
    "# 3.1) check for correlation"
   ]
  },
  {
   "cell_type": "code",
   "execution_count": 42,
   "metadata": {
    "_cell_guid": "ff7bb90b-d211-483f-9a53-204554f491bd",
    "_uuid": "d52b7d972e86219e69376f22c940a69abc007e13"
   },
   "outputs": [
    {
     "data": {
      "text/plain": [
       "<matplotlib.axes._subplots.AxesSubplot at 0x118249cf8>"
      ]
     },
     "execution_count": 42,
     "metadata": {},
     "output_type": "execute_result"
    },
    {
     "data": {
      "image/png": "[encoded data removed]",
      "text/plain": [
       "<matplotlib.figure.Figure at 0x118249e48>"
      ]
     },
     "metadata": {},
     "output_type": "display_data"
    }
   ],
   "source": [
    "corr = train_data.corr()\n",
    "f, ax = plt.subplots(figsize=(25,16))\n",
    "sns.plt.yticks(fontsize=18)\n",
    "sns.plt.xticks(fontsize=18)\n",
    "\n",
    "sns.heatmap(corr, cmap='inferno', linewidths=0.1,vmax=1.0, square=True, annot=True)"
   ]
  },
  {
   "cell_type": "markdown",
   "metadata": {
    "_cell_guid": "4b054f24-6b48-43fb-a56a-8c3edc87b88a",
    "_uuid": "b7d108bb91b61b08fdbf7ad16f5592c8606d39b3"
   },
   "source": [
    "# There is high correlation between 'Pclass' & 'Cabin' features. i will try our algorithms with 'both' features & by 'eliminating one of them' to see if we get any better results\n",
    "---\n",
    "# 3.2) Applying Models\n",
    "# SVM"
   ]
  },
  {
   "cell_type": "code",
   "execution_count": 43,
   "metadata": {
    "_cell_guid": "235af5c7-7e57-40c3-a877-e8259bec046f",
    "_uuid": "f1c6d1ae3dcb4f9765ea55b558632630e3ed58a0",
    "collapsed": true
   },
   "outputs": [],
   "source": [
    "# features\n",
    "X = train_data.iloc[:,[1,2,3,4,5,6,7,8,9,10,11,12,13]].values\n",
    "# dependent variable\n",
    "y = train_data.iloc[:,0].values"
   ]
  },
  {
   "cell_type": "code",
   "execution_count": 44,
   "metadata": {
    "_cell_guid": "84cb9100-37cc-4840-8f64-6f0e36e309aa",
    "_uuid": "525a56064e4b685306809ad427eff8dcb5755833"
   },
   "outputs": [
    {
     "data": {
      "text/plain": [
       "0.78131623475653755"
      ]
     },
     "execution_count": 44,
     "metadata": {},
     "output_type": "execute_result"
    }
   ],
   "source": [
    "from sklearn.model_selection import cross_val_score, ShuffleSplit\n",
    "from sklearn.svm import SVC\n",
    "\n",
    "clf = SVC(kernel='linear', C=1)\n",
    "clf.fit(X,y)\n",
    "cv = ShuffleSplit(n_splits=10, test_size=0.20, random_state=0)\n",
    "scores = cross_val_score(clf, X, y, cv=4)\n",
    "scores.mean()                                              \n",
    "\n"
   ]
  },
  {
   "cell_type": "markdown",
   "metadata": {
    "_cell_guid": "de3127b5-195d-4ffb-96f4-dc854a0fafb0",
    "_uuid": "adae40539841505d98788864ada15c45a845b894"
   },
   "source": [
    "# RandomForest"
   ]
  },
  {
   "cell_type": "code",
   "execution_count": 45,
   "metadata": {
    "_cell_guid": "306375e7-a9f0-4860-9e66-c3d61da6caca",
    "_uuid": "71d4460abdad21b0be107da48092496747e5bc4c"
   },
   "outputs": [
    {
     "data": {
      "text/plain": [
       "0.81610544320746115"
      ]
     },
     "execution_count": 45,
     "metadata": {},
     "output_type": "execute_result"
    }
   ],
   "source": [
    "from sklearn.ensemble import RandomForestClassifier\n",
    "clf = RandomForestClassifier(max_depth=15,random_state=0)\n",
    "clf.fit(X,y)\n",
    "cv = ShuffleSplit(n_splits=10, test_size=0.20, random_state=0)\n",
    "scores = cross_val_score(clf, X, y, cv=4)\n",
    "scores.mean() "
   ]
  },
  {
   "cell_type": "markdown",
   "metadata": {
    "_cell_guid": "81b9a287-bbac-4e4f-8e44-3fc97c2480a5",
    "_uuid": "da028edd248c66d15fa9ca49abf35f8a63996926"
   },
   "source": [
    "# KNN"
   ]
  },
  {
   "cell_type": "code",
   "execution_count": 46,
   "metadata": {
    "_cell_guid": "67d0c1a0-0f84-4df6-8b05-cdefb0ac2336",
    "_uuid": "26ee95b1ece48ab2416c9e42e8c84e2ffbc060fd"
   },
   "outputs": [
    {
     "data": {
      "text/plain": [
       "0.74537100661680256"
      ]
     },
     "execution_count": 46,
     "metadata": {},
     "output_type": "execute_result"
    }
   ],
   "source": [
    "from sklearn.neighbors import KNeighborsClassifier\n",
    "clf = KNeighborsClassifier(n_neighbors=1)\n",
    "clf.fit(X,y)\n",
    "cv = ShuffleSplit(n_splits=10, test_size=0.20, random_state=0)\n",
    "scores = cross_val_score(clf, X, y, cv=4)\n",
    "scores.mean() "
   ]
  },
  {
   "cell_type": "markdown",
   "metadata": {
    "_cell_guid": "ad3dc656-3a82-42d4-8e51-074ee75c918f",
    "_uuid": "c216e169a61b0a62e8f9c2502007db1eaddc813b"
   },
   "source": [
    "# 3.3) Accuracy\n",
    "---\n",
    "---\n",
    "\n",
    "# KNN- 74\n",
    "# RandomForest- 81.6\n",
    "# Support Vector- 78.1"
   ]
  },
  {
   "cell_type": "markdown",
   "metadata": {
    "_cell_guid": "4174c5c2-f896-4067-b208-794279c746ca",
    "_uuid": "647200978f7379e55155f3a48a5cb6536a4e088c"
   },
   "source": [
    "---\n",
    "---\n",
    "# more to improve in this kernel :) will come up with updates"
   ]
  }
 ],
 "metadata": {
  "kernelspec": {
   "display_name": "Python 3",
   "language": "python",
   "name": "python3"
  },
  "language_info": {
   "codemirror_mode": {
    "name": "ipython",
    "version": 3
   },
   "file_extension": ".py",
   "mimetype": "text/x-python",
   "name": "python",
   "nbconvert_exporter": "python",
   "pygments_lexer": "ipython3",
   "version": "3.6.1"
  }
 },
 "nbformat": 4,
 "nbformat_minor": 1
}
