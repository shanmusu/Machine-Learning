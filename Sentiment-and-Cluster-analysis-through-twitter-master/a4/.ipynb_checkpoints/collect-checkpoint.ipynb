{
 "cells": [
  {
   "cell_type": "code",
   "execution_count": 49,
   "metadata": {
    "collapsed": true
   },
   "outputs": [],
   "source": [
    "import sys\n",
    "import time\n",
    "import csv\n",
    "import unicodecsv as csv\n",
    "from TwitterAPI import TwitterAPI\n",
    "import pickle\n",
    "import numpy as np\n",
    "from pathlib import Path"
   ]
  },
  {
   "cell_type": "code",
   "execution_count": 19,
   "metadata": {
    "collapsed": true
   },
   "outputs": [],
   "source": [
    "consumer_key = 'tb9zMiyUJ9UeX6blluI4Wlws8'\n",
    "consumer_secret = 'XlGNdXHj6Rd2LJ2t9LodnCLydvO2kZ4KLoq95VnQRXfuKXDgZn'\n",
    "access_token = '3231404389-56xTceJ255ar5Sj2sQtWuDj8z0grnNedlqOt5AC'\n",
    "access_token_secret = 'qwPAoWezVnfgeQCCaJy03rOQUJG2Z9ZACzVPIjcqu7IKD'"
   ]
  },
  {
   "cell_type": "code",
   "execution_count": 20,
   "metadata": {
    "collapsed": true
   },
   "outputs": [],
   "source": [
    "def get_twitter():\n",
    "    \"\"\" Construct an instance of TwitterAPI using the tokens you entered above.\n",
    "    Returns:\n",
    "      An instance of TwitterAPI.     \n",
    "    \"\"\"\n",
    "    consumer_key = 'tb9zMiyUJ9UeX6blluI4Wlws8'\n",
    "    consumer_secret = 'XlGNdXHj6Rd2LJ2t9LodnCLydvO2kZ4KLoq95VnQRXfuKXDgZn'\n",
    "    access_token = '3231404389-56xTceJ255ar5Sj2sQtWuDj8z0grnNedlqOt5AC'\n",
    "    access_token_secret = 'qwPAoWezVnfgeQCCaJy03rOQUJG2Z9ZACzVPIjcqu7IKD'\n",
    "    return TwitterAPI(consumer_key, consumer_secret, access_token, access_token_secret)"
   ]
  },
  {
   "cell_type": "code",
   "execution_count": 39,
   "metadata": {
    "collapsed": false
   },
   "outputs": [],
   "source": [
    "def get_tweets(twitter,hashtags,tweets,since_id):\n",
    "    \n",
    "    while True:\n",
    "        try:\n",
    "\n",
    "            request = twitter.request('search/tweets',{'q':hashtags,'count':1000,'lang':'en','max_id':since_id})\n",
    "            for response in request:\n",
    "                tweets.append(response)\n",
    "            print (len(tweets))\n",
    "            return tweets\n",
    "        except:\n",
    "            print(\"Unexpected error:\", sys.exc_info()[0])\n",
    "            break     "
   ]
  },
  {
   "cell_type": "code",
   "execution_count": 30,
   "metadata": {
    "collapsed": true
   },
   "outputs": [],
   "source": [
    "def get_friends(screen_name): \n",
    "    return sorted([friend_id for friend_id in twitter.request('friends/ids',{'screen_name' : screen_name, 'count' :5000})])"
   ]
  },
  {
   "cell_type": "code",
   "execution_count": 31,
   "metadata": {
    "collapsed": false
   },
   "outputs": [],
   "source": [
    "def select_required(tweet):\n",
    "    data = []\n",
    "    \n",
    "    for each_tweet in tweet:\n",
    "        tweet_data = {}\n",
    "        tweet_data['screen_name']=each_tweet['user']['screen_name']\n",
    "        tweet_data['userid']= each_tweet['user']['id']\n",
    "        tweet_data['description']=each_tweet['user']['description']\n",
    "        tweet_data['tweet']=each_tweet['text']\n",
    "        tweet_data['username']=each_tweet['user']['name']\n",
    "        tweet_data['since_id']=each_tweet['id']\n",
    "        data.append(tweet_data)\n",
    "    return data"
   ]
  },
  {
   "cell_type": "code",
   "execution_count": 32,
   "metadata": {
    "collapsed": false
   },
   "outputs": [],
   "source": [
    "def open_file(tweets,filename):\n",
    "    fname= filename+'.pkl'\n",
    "    p = Path(fname)\n",
    "    if p.is_file():\n",
    "        with open(fname, \"rb\") as file:\n",
    "            try:\n",
    "                tweets = pickle.load(file)\n",
    "            except EOFError:\n",
    "                return tweets\n",
    "    return tweets"
   ]
  },
  {
   "cell_type": "code",
   "execution_count": 33,
   "metadata": {
    "collapsed": false
   },
   "outputs": [],
   "source": [
    "\n",
    "def write_file(tweets,filename):\n",
    "    fname=filename+'.pkl'\n",
    "    print(\"file length after writing->\",len(tweets))\n",
    "    pickle.dump(tweets, open(fname, 'wb'))\n",
    "        "
   ]
  },
  {
   "cell_type": "code",
   "execution_count": 48,
   "metadata": {
    "collapsed": false,
    "scrolled": true
   },
   "outputs": [
    {
     "name": "stdout",
     "output_type": "stream",
     "text": [
      "Established Twitter connection.\n",
      " started collecting tweets From Twitter Based on location\n",
      "803268027345010689\n",
      "stating\n",
      "length before search  1006\n",
      "100\n",
      "file length after writing-> 1106\n",
      "802903688712949760\n",
      "stating\n",
      "length before search  1046\n",
      "100\n",
      "file length after writing-> 1146\n",
      "801438810651377665\n",
      "stating\n",
      "length before search  887\n",
      "100\n",
      "file length after writing-> 987\n",
      "801620433804070912\n",
      "stating\n",
      "length before search  927\n",
      "100\n",
      "file length after writing-> 1027\n",
      "803408446766911488\n",
      "stating\n",
      "length before search  938\n",
      "100\n",
      "file length after writing-> 1038\n",
      "803575339175870464\n",
      "stating\n",
      "length before search  749\n",
      "19\n",
      "file length after writing-> 768\n",
      "801587136138973184\n",
      "stating\n",
      "length before search  929\n",
      "100\n",
      "file length after writing-> 1029\n",
      "tweets saved to a file called tweets \n",
      "\n"
     ]
    }
   ],
   "source": [
    "def main():\n",
    "    twitter = get_twitter()\n",
    "    print('Established Twitter connection.')\n",
    "    print(' started collecting tweets From Twitter Based on location')\n",
    "    hashtags=['#DubNation','#WeTheNorth','#GrindCity','#DetroitBasketball','#thunderup','#LakeShow','#DefendTheLand']\n",
    "    s_id=0\n",
    "    for tags in hashtags:\n",
    "        tweets = []\n",
    "        tweets_from_file =[]\n",
    "        since_id=[]\n",
    "        tweets_from_file =open_file(tweets_from_file,tags)\n",
    "        if tweets_from_file:    \n",
    "            for i in tweets_from_file:\n",
    "                since_id.append(i['since_id'])\n",
    "            s_id=min(since_id)\n",
    "            print (s_id)\n",
    "        print(\"stating\")\n",
    "        print (\"length before search \",len(tweets_from_file))\n",
    "        tweets = get_tweets(twitter,tags,tweets,s_id)\n",
    "        tweets= select_required(tweets)\n",
    "        for i in tweets:\n",
    "            tweets_from_file.append(i)\n",
    "        write_file(tweets_from_file,tags)\n",
    "    print('tweets saved to a file called tweets \\n')\n",
    "\n",
    "if __name__ == '__main__':\n",
    "    main()"
   ]
  },
  {
   "cell_type": "code",
   "execution_count": null,
   "metadata": {
    "collapsed": true
   },
   "outputs": [],
   "source": []
  }
 ],
 "metadata": {
  "anaconda-cloud": {},
  "kernelspec": {
   "display_name": "Python [Root]",
   "language": "python",
   "name": "Python [Root]"
  },
  "language_info": {
   "codemirror_mode": {
    "name": "ipython",
    "version": 3
   },
   "file_extension": ".py",
   "mimetype": "text/x-python",
   "name": "python",
   "nbconvert_exporter": "python",
   "pygments_lexer": "ipython3",
   "version": "3.5.2"
  }
 },
 "nbformat": 4,
 "nbformat_minor": 0
}
