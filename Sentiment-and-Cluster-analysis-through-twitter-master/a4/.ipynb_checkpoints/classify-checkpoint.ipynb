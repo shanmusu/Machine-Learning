{
 "cells": [
  {
   "cell_type": "code",
   "execution_count": 37,
   "metadata": {
    "collapsed": true
   },
   "outputs": [],
   "source": [
    "import pickle\n",
    "from pathlib import Path\n",
    "import sys\n",
    "import re\n",
    "import numpy as np\n",
    "import time\n",
    "from collections import Counter\n",
    "from TwitterAPI import TwitterAPI\n",
    "from collections import Counter, defaultdict, deque\n",
    "import csv\n",
    "from sklearn.cross_validation import KFold\n",
    "from sklearn.feature_extraction.text import CountVectorizer\n",
    "from sklearn.linear_model import LogisticRegression\n",
    "\n",
    "from sklearn.metrics import accuracy_score\n",
    "from io import BytesIO\n",
    "from zipfile import ZipFile\n",
    "from urllib.request import urlopen"
   ]
  },
  {
   "cell_type": "code",
   "execution_count": 5,
   "metadata": {
    "collapsed": true
   },
   "outputs": [],
   "source": [
    "def open_file(tweets,fname):\n",
    "    fname=fname+'.pkl'\n",
    "    p = Path(fname)\n",
    "    if p.is_file():\n",
    "        with open(fname, \"rb\") as file:\n",
    "            try:\n",
    "                tweets = pickle.load(file)\n",
    "            except EOFError:\n",
    "                return tweets\n",
    "    return tweets"
   ]
  },
  {
   "cell_type": "code",
   "execution_count": 6,
   "metadata": {
    "collapsed": false
   },
   "outputs": [],
   "source": [
    "def get_tweets(file,tweets_list):\n",
    "    for i in file:\n",
    "        t=[]\n",
    "        tweets_list.append(i['tweet'])\n",
    "    return tweets_list\n",
    "    "
   ]
  },
  {
   "cell_type": "code",
   "execution_count": 7,
   "metadata": {
    "collapsed": true
   },
   "outputs": [],
   "source": [
    "def process_Data(allTweet):\n",
    "    data = []\n",
    "    for json in allTweet:\n",
    "        tweet_data = []\n",
    "        tweet_data.append(json['username'])\n",
    "        tweet_data.append(json['userid'])\n",
    "        tweet_data.append(json['description'])\n",
    "        tweet_data.append(json['tweet'])\n",
    "       \n",
    "        data.append(tweet_data)\n",
    "    return data"
   ]
  },
  {
   "cell_type": "code",
   "execution_count": 8,
   "metadata": {
    "collapsed": false
   },
   "outputs": [],
   "source": [
    "def write_tweets_csv(data):\n",
    "    with open('twitter_data.csv', 'w',encoding='utf-8') as fp:\n",
    "        a = csv.writer(fp)\n",
    "        a.writerows(data)\n",
    "   "
   ]
  },
  {
   "cell_type": "code",
   "execution_count": null,
   "metadata": {
    "collapsed": true
   },
   "outputs": [],
   "source": []
  },
  {
   "cell_type": "code",
   "execution_count": 9,
   "metadata": {
    "collapsed": true
   },
   "outputs": [],
   "source": [
    "def afinn_sentiment2(terms, afinn, verbose=False):\n",
    "    pos = 0\n",
    "    neg = 0\n",
    "    val=0\n",
    "    for t in terms:\n",
    "        if t in afinn:\n",
    "            if verbose:\n",
    "                print('\\t%s=%d' % (t, afinn[t]))\n",
    "            if afinn[t] > 0:\n",
    "                pos += afinn[t]\n",
    "                \n",
    "            else:\n",
    "                neg += -1 * afinn[t]\n",
    "                \n",
    "    val=pos+neg\n",
    "    \n",
    "    if val < 0 :\n",
    "        return  -1\n",
    "    else:\n",
    "        return 1\n",
    "        \n"
   ]
  },
  {
   "cell_type": "code",
   "execution_count": 10,
   "metadata": {
    "collapsed": false
   },
   "outputs": [],
   "source": [
    "def create_for_manual(tweet_test,afinn):\n",
    "    tweet_manual_labelling = []\n",
    "    for i in tweet_test:\n",
    "        i = re.sub('http\\S+', 'THIS_IS_A_URL', i)\n",
    "        i = re.sub('@\\S+', 'THIS_IS_A_MENTION', i)\n",
    "        if i.split()[0] != 'RT':\n",
    "            score= afinn_sentiment2(i, afinn, verbose=False)\n",
    "            \n",
    "            tweet_manual_labelling.append((score,i))\n",
    "    with open('tweet_manual_labelling.csv', 'w',encoding='utf-8') as fp1:\n",
    "        filewriter = csv.writer(fp1)\n",
    "        filewriter.writerows(tweet_manual_labelling)"
   ]
  },
  {
   "cell_type": "code",
   "execution_count": 11,
   "metadata": {
    "collapsed": true
   },
   "outputs": [],
   "source": [
    "def read_tarining_data(filename):\n",
    "    tweets = []\n",
    "    labels1 = []\n",
    "    with open(filename, 'r',encoding='utf-8') as x:\n",
    "        filereader = csv.reader(x)\n",
    "        for  row in filereader:\n",
    "            labels1.append(row[0])\n",
    "            tweets.append(row[1])\n",
    "    return tweets,np.array(labels1)"
   ]
  },
  {
   "cell_type": "code",
   "execution_count": 78,
   "metadata": {
    "collapsed": true
   },
   "outputs": [],
   "source": [
    "def tokenize(text):\n",
    "    \n",
    "    tokens = re.findall(r\"\\w+|\\S\", text.lower(),flags = re.L)\n",
    "    tokens1 = []\n",
    "    for i in tokens:\n",
    "        i = re.sub('http\\S+', 'THIS_IS_A_URL', i)\n",
    "        i = re.sub('@\\S+', 'THIS_IS_A_MENTION', i)\n",
    "        x = re.findall(r\"\\w+|\\S\", i,flags = re.U)\n",
    "        for j in x:\n",
    "            tokens1.append(j)            \n",
    "    return tokens1"
   ]
  },
  {
   "cell_type": "code",
   "execution_count": 79,
   "metadata": {
    "collapsed": true
   },
   "outputs": [],
   "source": [
    "def do_vectorize(tokenizer_fn=tokenize, min_df=1,\n",
    "                 max_df=1., binary=True, ngram_range=(1,1)):\n",
    "\n",
    "    \n",
    "    vectorizer = CountVectorizer(input = 'content', tokenizer = tokenizer_fn, min_df=min_df, \n",
    "                                     max_df=max_df, binary=binary, ngram_range=ngram_range,\n",
    "                                 dtype = 'int',analyzer='word',token_pattern='(?u)\\b\\w\\w+\\b',encoding='utf-8' )\n",
    "    return vectorizer"
   ]
  },
  {
   "cell_type": "code",
   "execution_count": 80,
   "metadata": {
    "collapsed": true
   },
   "outputs": [],
   "source": [
    "def get_clf(C = 1.,penalty = 'l2'):\n",
    "    return LogisticRegression(C = C,penalty=penalty,random_state=42)\n"
   ]
  },
  {
   "cell_type": "code",
   "execution_count": 81,
   "metadata": {
    "collapsed": true
   },
   "outputs": [],
   "source": [
    "def prediction(CLF,trained_CSR,trained_label,untrained_tweets_CSR):\n",
    "    CLF.fit(trained_CSR,trained_label)\n",
    "    predicted = CLF.predict(untrained_tweets_CSR)\n",
    "    return predicted"
   ]
  },
  {
   "cell_type": "code",
   "execution_count": 82,
   "metadata": {
    "collapsed": false
   },
   "outputs": [],
   "source": [
    "def do_cross_validation(X, y,clf, n_folds=5):\n",
    "    cv = KFold(len(y), n_folds)\n",
    "    accuracies = []\n",
    "    for train_ind, test_ind in cv: \n",
    "        clf.fit(X[train_ind], y[train_ind])\n",
    "        predictions = clf.predict(X[test_ind])\n",
    "        accuracies.append(accuracy_score(y[test_ind], predictions))\n",
    "    avg = np.mean(accuracies)\n",
    "    return avg\n",
    "\n"
   ]
  },
  {
   "cell_type": "code",
   "execution_count": 88,
   "metadata": {
    "collapsed": false
   },
   "outputs": [
    {
     "name": "stdout",
     "output_type": "stream",
     "text": [
      "Average cross validation accuracy for Logistic Regression=81.3 percentage\n",
      "Logistic Regression Results for team #DubNation\n",
      "\t Tweets aganist team\t\t\t\t 18\n",
      "\t Number of Tweets supporting team \t\t1187\n",
      "\t Number of advertising tweets on team \t\t1\n",
      "Average cross validation accuracy for Logistic Regression=81.3 percentage\n",
      "Logistic Regression Results for team #WeTheNorth\n",
      "\t Tweets aganist team\t\t\t\t 857\n",
      "\t Number of Tweets supporting team \t\t1549\n",
      "\t Number of advertising tweets on team \t\t46\n",
      "Average cross validation accuracy for Logistic Regression=81.3 percentage\n",
      "Logistic Regression Results for team #GrindCity\n",
      "\t Tweets aganist team\t\t\t\t 1932\n",
      "\t Number of Tweets supporting team \t\t1561\n",
      "\t Number of advertising tweets on team \t\t46\n",
      "Average cross validation accuracy for Logistic Regression=81.3 percentage\n",
      "Logistic Regression Results for team #DetroitBasketball\n",
      "\t Tweets aganist team\t\t\t\t 2834\n",
      "\t Number of Tweets supporting team \t\t1786\n",
      "\t Number of advertising tweets on team \t\t46\n",
      "Average cross validation accuracy for Logistic Regression=81.3 percentage\n",
      "Logistic Regression Results for team #thunderup\n",
      "\t Tweets aganist team\t\t\t\t 3264\n",
      "\t Number of Tweets supporting team \t\t2494\n",
      "\t Number of advertising tweets on team \t\t46\n",
      "Average cross validation accuracy for Logistic Regression=81.3 percentage\n",
      "Logistic Regression Results for team #LakeShow\n",
      "\t Tweets aganist team\t\t\t\t 3665\n",
      "\t Number of Tweets supporting team \t\t2886\n",
      "\t Number of advertising tweets on team \t\t46\n",
      "Average cross validation accuracy for Logistic Regression=81.3 percentage\n",
      "Logistic Regression Results for team #DefendTheLand\n",
      "\t Tweets aganist team\t\t\t\t 4229\n",
      "\t Number of Tweets supporting team \t\t3451\n",
      "\t Number of advertising tweets on team \t\t46\n"
     ]
    }
   ],
   "source": [
    "hashtags=['#DubNation','#WeTheNorth','#GrindCity','#DetroitBasketball','#thunderup','#LakeShow','#DefendTheLand']\n",
    "tweets_list=[]\n",
    "url = urlopen('http://www2.compute.dtu.dk/~faan/data/AFINN.zip')\n",
    "zipfile = ZipFile(BytesIO(url.read()))\n",
    "afinn_file = zipfile.open('AFINN/AFINN-111.txt')\n",
    "afinn = dict()\n",
    "for line in afinn_file:\n",
    "    parts = line.strip().split()\n",
    "    if len(parts) == 2:\n",
    "        afinn[parts[0].decode(\"utf-8\")] = int(parts[1])   \n",
    "for tags in hashtags:\n",
    "    tweets=[]\n",
    "    tweets= open_file(tweets,tags)\n",
    "    #get tweets for each team\n",
    "    tweets_list= get_tweets(tweets,tweets_list)\n",
    "\n",
    "    #to store in csv process the data\n",
    "    data=process_Data(tweets)\n",
    "    \n",
    "    write_tweets_csv(data)\n",
    "    #create_for_manual(tweets_list,afinn)\n",
    "    \n",
    "    #data which is trained\n",
    "    labeled_tweets,labels = read_tarining_data('tweet_manual_labelling.csv')\n",
    "    \n",
    "    #data to be tested\n",
    "    \n",
    "   \n",
    "    clf_logistic = get_clf()  \n",
    "    vectorizer = do_vectorize() #get the vectorizer object\n",
    "    X = vectorizer.fit_transform(t for t in labeled_tweets)\n",
    "    y = np.array(labels) \n",
    "    logistic_regression_accuracy = (do_cross_validation(X, y,clf_logistic))*100\n",
    "    print('Average cross validation accuracy for Logistic Regression=%.1f percentage' % (logistic_regression_accuracy))\n",
    "    \n",
    "    #Prediction for unlabelled Tweets\n",
    "    #X = vectorizer.fit_transform(t for t in labeled_tweets)\n",
    "    test_tweet_vector = vectorizer.transform(t for t in tweets_list)\n",
    "    logistic_prediction =prediction(clf_logistic,X,y,test_tweet_vector)\n",
    "    result = dict(Counter(logistic_prediction))\n",
    "    print (\"Logistic Regression Results for team\",tags)\n",
    "    for i in result:\n",
    "        if i == '-1':\n",
    "            print (\"\\t Tweets aganist team\\t\\t\\t\\t\",result[i])\n",
    "            \n",
    "        elif i == '0':\n",
    "            print (\"\\t Number of advertising tweets on team \\t\\t%d\" %result[i])\n",
    "         \n",
    "        elif i == '1':\n",
    "            print (\"\\t Number of Tweets supporting team \\t\\t%d\" %result[i])\n",
    "         \n",
    "    "
   ]
  },
  {
   "cell_type": "code",
   "execution_count": null,
   "metadata": {
    "collapsed": false
   },
   "outputs": [],
   "source": []
  },
  {
   "cell_type": "code",
   "execution_count": 242,
   "metadata": {
    "collapsed": false
   },
   "outputs": [],
   "source": []
  },
  {
   "cell_type": "code",
   "execution_count": 244,
   "metadata": {
    "collapsed": false
   },
   "outputs": [],
   "source": []
  },
  {
   "cell_type": "code",
   "execution_count": null,
   "metadata": {
    "collapsed": true
   },
   "outputs": [],
   "source": []
  }
 ],
 "metadata": {
  "anaconda-cloud": {},
  "kernelspec": {
   "display_name": "Python [Root]",
   "language": "python",
   "name": "Python [Root]"
  },
  "language_info": {
   "codemirror_mode": {
    "name": "ipython",
    "version": 3
   },
   "file_extension": ".py",
   "mimetype": "text/x-python",
   "name": "python",
   "nbconvert_exporter": "python",
   "pygments_lexer": "ipython3",
   "version": "3.5.2"
  }
 },
 "nbformat": 4,
 "nbformat_minor": 0
}
