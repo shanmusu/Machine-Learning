{
 "cells": [
  {
   "cell_type": "code",
   "execution_count": 46,
   "metadata": {
    "collapsed": true
   },
   "outputs": [],
   "source": [
    "import json\n",
    "import csv\n",
    "import numpy as np\n",
    "from pathlib import Path\n",
    "import sys\n",
    "import time\n",
    "import pickle"
   ]
  },
  {
   "cell_type": "code",
   "execution_count": 47,
   "metadata": {
    "collapsed": true
   },
   "outputs": [],
   "source": [
    "def open_file(tweets,fname):\n",
    "    fname=fname+'.pkl'\n",
    "    p = Path(fname)\n",
    "    if p.is_file():\n",
    "        with open(fname, \"rb\") as file:\n",
    "            try:\n",
    "                tweets = pickle.load(file)\n",
    "            except EOFError:\n",
    "                return tweets\n",
    "    return tweets"
   ]
  },
  {
   "cell_type": "code",
   "execution_count": 48,
   "metadata": {
    "collapsed": true
   },
   "outputs": [],
   "source": [
    "def get_tweets(file,tweets_list):\n",
    "    for i in file:\n",
    "        t=[]\n",
    "        tweets_list.append(i['tweet'])\n",
    "    return tweets_list\n",
    "    "
   ]
  },
  {
   "cell_type": "code",
   "execution_count": 49,
   "metadata": {
    "collapsed": true
   },
   "outputs": [],
   "source": [
    "def read_tarining_data(filename):\n",
    "    tweets = []\n",
    "    labels1 = []\n",
    "    with open(filename, 'r',encoding='utf-8') as x:\n",
    "        filereader = csv.reader(x)\n",
    "        for  row in filereader:\n",
    "            labels1.append(row[0])\n",
    "            tweets.append(row[1])\n",
    "    return tweets,np.array(labels1)"
   ]
  },
  {
   "cell_type": "code",
   "execution_count": 50,
   "metadata": {
    "collapsed": true
   },
   "outputs": [],
   "source": [
    "def open_clusture(fname):\n",
    "    p = Path(fname)\n",
    "    if p.is_file():\n",
    "        with open(fname, \"rb\") as file:\n",
    "            try:\n",
    "                tweets = pickle.load(file)\n",
    "            except EOFError:\n",
    "                return tweets\n",
    "    return tweets"
   ]
  },
  {
   "cell_type": "code",
   "execution_count": 56,
   "metadata": {
    "collapsed": false
   },
   "outputs": [],
   "source": [
    "def main():\n",
    "    hashtags=['#WeTheNorth','#GrindCity','#DubNation','#DefendTheLand','#DetroitBasketball','#thunderup','#LakeShow']\n",
    "    alltweet=[]\n",
    "    alllable=[]\n",
    "    clusname='Cluster.pkl'\n",
    "    c_details=open_clusture(clusname)\n",
    "    clus_count=[]\n",
    "    sampletweet=[]\n",
    "    sampleable=[]\n",
    "    for tags in hashtags:\n",
    "        tweets=[]\n",
    "        tweets_list=[]\n",
    "        #get tweets for each team \n",
    "        tweets= open_file(tweets,tags)\n",
    "        tweets_list= get_tweets(tweets,tweets_list)\n",
    "        labeled_tweets,labels = read_tarining_data('tweet_classified.csv')\n",
    "        for i in labeled_tweets:\n",
    "            alltweet.append(i)\n",
    "        for i in labels:\n",
    "            alllable.append(i)\n",
    "        fname=tags+ '.csv'\n",
    "        labeled_tweets,labels=read_tarining_data(fname)\n",
    "        sampletweet.append(labeled_tweets)\n",
    "        sampleable.append(labels[0])\n",
    "\n",
    "    for i  in range(1,5):\n",
    "        clus_count.append(len(c_details[i]))\n",
    "\n",
    "    numberofuser= c_details['usercount']\n",
    "\n",
    "\n",
    "    outf = open('summerize.txt', 'wt')\n",
    "    json.dump({\n",
    "               'Number of messages collected:': (len(alltweet)),\n",
    "               'Number of users collected:': numberofuser,\n",
    "               'Number of communities discovered:': len(clus_count),\n",
    "               'average number of nodes in each cluster':clus_count, \n",
    "                'sample tweets':sampletweet[0][:5],\n",
    "                'sample tweet sentiment':sampleable[:5]\n",
    "\n",
    "\n",
    "              },\n",
    "              outf, indent=2)\n",
    "    outf.close()\n",
    "if __name__ == '__main__':\n",
    "    main()"
   ]
  },
  {
   "cell_type": "code",
   "execution_count": null,
   "metadata": {
    "collapsed": true
   },
   "outputs": [],
   "source": []
  },
  {
   "cell_type": "code",
   "execution_count": null,
   "metadata": {
    "collapsed": true
   },
   "outputs": [],
   "source": []
  }
 ],
 "metadata": {
  "kernelspec": {
   "display_name": "Python [Root]",
   "language": "python",
   "name": "Python [Root]"
  },
  "language_info": {
   "codemirror_mode": {
    "name": "ipython",
    "version": 3
   },
   "file_extension": ".py",
   "mimetype": "text/x-python",
   "name": "python",
   "nbconvert_exporter": "python",
   "pygments_lexer": "ipython3",
   "version": "3.5.2"
  }
 },
 "nbformat": 4,
 "nbformat_minor": 0
}
